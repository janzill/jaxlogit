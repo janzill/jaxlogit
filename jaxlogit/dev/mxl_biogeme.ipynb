{
 "cells": [
  {
   "cell_type": "code",
   "execution_count": 1,
   "id": "9f09242f",
   "metadata": {
    "execution": {
     "iopub.execute_input": "2025-07-08T20:00:27.562795Z",
     "iopub.status.busy": "2025-07-08T20:00:27.562189Z",
     "iopub.status.idle": "2025-07-08T20:00:28.870615Z",
     "shell.execute_reply": "2025-07-08T20:00:28.869251Z",
     "shell.execute_reply.started": "2025-07-08T20:00:27.562754Z"
    }
   },
   "outputs": [],
   "source": [
    "import pandas as pd\n",
    "\n",
    "import biogeme.biogeme_logging as blog\n",
    "import biogeme.biogeme as bio\n",
    "from biogeme import models\n",
    "from biogeme.expressions import Beta, bioDraws, log, MonteCarlo, PanelLikelihoodTrajectory\n",
    "from biogeme.parameters import Parameters\n",
    "import biogeme.database as db\n",
    "from biogeme.expressions import Variable"
   ]
  },
  {
   "cell_type": "code",
   "execution_count": 2,
   "id": "8fd1a472",
   "metadata": {
    "execution": {
     "iopub.execute_input": "2025-07-08T20:00:28.872959Z",
     "iopub.status.busy": "2025-07-08T20:00:28.872237Z",
     "iopub.status.idle": "2025-07-08T20:00:28.879380Z",
     "shell.execute_reply": "2025-07-08T20:00:28.877810Z",
     "shell.execute_reply.started": "2025-07-08T20:00:28.872901Z"
    }
   },
   "outputs": [],
   "source": [
    "logger = blog.get_screen_logger(level=blog.INFO)"
   ]
  },
  {
   "cell_type": "code",
   "execution_count": 3,
   "id": "ee4fabe7",
   "metadata": {
    "execution": {
     "iopub.execute_input": "2025-07-08T20:00:28.881353Z",
     "iopub.status.busy": "2025-07-08T20:00:28.880880Z",
     "iopub.status.idle": "2025-07-08T20:00:32.655613Z",
     "shell.execute_reply": "2025-07-08T20:00:32.654422Z",
     "shell.execute_reply.started": "2025-07-08T20:00:28.881299Z"
    }
   },
   "outputs": [],
   "source": [
    "df = pd.read_table(\"http://transp-or.epfl.ch/data/swissmetro.dat\", sep='\\t')"
   ]
  },
  {
   "cell_type": "code",
   "execution_count": 4,
   "id": "c1d05738",
   "metadata": {
    "execution": {
     "iopub.execute_input": "2025-07-08T20:00:32.656991Z",
     "iopub.status.busy": "2025-07-08T20:00:32.656713Z",
     "iopub.status.idle": "2025-07-08T20:00:32.670798Z",
     "shell.execute_reply": "2025-07-08T20:00:32.669235Z",
     "shell.execute_reply.started": "2025-07-08T20:00:32.656968Z"
    }
   },
   "outputs": [
    {
     "data": {
      "text/plain": [
       "False    6768\n",
       "True     3960\n",
       "Name: count, dtype: int64"
      ]
     },
     "execution_count": 4,
     "metadata": {},
     "output_type": "execute_result"
    }
   ],
   "source": [
    "(((df.PURPOSE != 1) * (df.PURPOSE != 3) + (df.CHOICE == 0)) > 0).value_counts()"
   ]
  },
  {
   "cell_type": "code",
   "execution_count": 5,
   "id": "3ab047c6",
   "metadata": {
    "execution": {
     "iopub.execute_input": "2025-07-08T20:00:32.673586Z",
     "iopub.status.busy": "2025-07-08T20:00:32.672774Z",
     "iopub.status.idle": "2025-07-08T20:00:32.709785Z",
     "shell.execute_reply": "2025-07-08T20:00:32.708650Z",
     "shell.execute_reply.started": "2025-07-08T20:00:32.673538Z"
    }
   },
   "outputs": [],
   "source": [
    "for col in df.columns:\n",
    "    if df[col].isna().any():\n",
    "        logger.warning(f\"Column {col} contains NaN values. This may affect the model estimation.\")\n",
    "    if (df[col] == 99999).any():\n",
    "        logger.warning(f\"Column {col} contains the value 99999, which may indicate missing or invalid data. Consider handling this before estimation.\")"
   ]
  },
  {
   "cell_type": "code",
   "execution_count": 6,
   "id": "19a34666",
   "metadata": {
    "execution": {
     "iopub.execute_input": "2025-07-08T20:00:32.712634Z",
     "iopub.status.busy": "2025-07-08T20:00:32.712105Z",
     "iopub.status.idle": "2025-07-08T20:00:33.137449Z",
     "shell.execute_reply": "2025-07-08T20:00:33.136399Z",
     "shell.execute_reply.started": "2025-07-08T20:00:32.712608Z"
    }
   },
   "outputs": [
    {
     "name": "stdout",
     "output_type": "stream",
     "text": [
      "Removing 3960 rows from the database based on the exclusion criteria.\n"
     ]
    }
   ],
   "source": [
    "database = db.Database('swissmetro', df)\n",
    "\n",
    "GROUP = Variable('GROUP')\n",
    "SURVEY = Variable('SURVEY')\n",
    "SP = Variable('SP')\n",
    "ID = Variable('ID')\n",
    "PURPOSE = Variable('PURPOSE')\n",
    "FIRST = Variable('FIRST')\n",
    "TICKET = Variable('TICKET')\n",
    "WHO = Variable('WHO')\n",
    "LUGGAGE = Variable('LUGGAGE')\n",
    "AGE = Variable('AGE')\n",
    "MALE = Variable('MALE')\n",
    "INCOME = Variable('INCOME')\n",
    "GA = Variable('GA')\n",
    "ORIGIN = Variable('ORIGIN')\n",
    "DEST = Variable('DEST')\n",
    "TRAIN_AV = Variable('TRAIN_AV')\n",
    "CAR_AV = Variable('CAR_AV')\n",
    "SM_AV = Variable('SM_AV')\n",
    "TRAIN_TT = Variable('TRAIN_TT')\n",
    "TRAIN_CO = Variable('TRAIN_CO')\n",
    "TRAIN_HE = Variable('TRAIN_HE')\n",
    "SM_TT = Variable('SM_TT')\n",
    "SM_CO = Variable('SM_CO')\n",
    "SM_HE = Variable('SM_HE')\n",
    "SM_SEATS = Variable('SM_SEATS')\n",
    "CAR_TT = Variable('CAR_TT')\n",
    "CAR_CO = Variable('CAR_CO')\n",
    "CHOICE = Variable('CHOICE')\n",
    "\n",
    "exclude = ((PURPOSE != 1) * (PURPOSE != 3) + (CHOICE == 0)) > 0\n",
    "print(f\"Removing {(((df.PURPOSE != 1) * (df.PURPOSE != 3) + (df.CHOICE == 0)) > 0).sum()} rows from the database based on the exclusion criteria.\")\n",
    "database.remove(exclude)\n",
    "\n",
    "SM_COST = database.define_variable('SM_COST', SM_CO * (GA == 0))\n",
    "TRAIN_COST = database.define_variable('TRAIN_COST', TRAIN_CO * (GA == 0))\n",
    "CAR_AV_SP = database.define_variable('CAR_AV_SP', CAR_AV * (SP != 0))\n",
    "TRAIN_AV_SP = database.define_variable('TRAIN_AV_SP', TRAIN_AV * (SP != 0))\n",
    "TRAIN_TT_SCALED = database.define_variable('TRAIN_TT_SCALED', TRAIN_TT / 100)\n",
    "TRAIN_COST_SCALED = database.define_variable('TRAIN_COST_SCALED', TRAIN_COST / 100)\n",
    "SM_TT_SCALED = database.define_variable('SM_TT_SCALED', SM_TT / 100)\n",
    "SM_COST_SCALED = database.define_variable('SM_COST_SCALED', SM_COST / 100)\n",
    "CAR_TT_SCALED = database.define_variable('CAR_TT_SCALED', CAR_TT / 100)\n",
    "CAR_CO_SCALED = database.define_variable('CAR_CO_SCALED', CAR_CO / 100)"
   ]
  },
  {
   "cell_type": "code",
   "execution_count": 7,
   "id": "cea329f5",
   "metadata": {
    "execution": {
     "iopub.execute_input": "2025-07-08T20:00:33.139110Z",
     "iopub.status.busy": "2025-07-08T20:00:33.138758Z",
     "iopub.status.idle": "2025-07-08T20:00:33.146606Z",
     "shell.execute_reply": "2025-07-08T20:00:33.145414Z",
     "shell.execute_reply.started": "2025-07-08T20:00:33.139085Z"
    }
   },
   "outputs": [
    {
     "data": {
      "text/plain": [
       "(6768, 38)"
      ]
     },
     "execution_count": 7,
     "metadata": {},
     "output_type": "execute_result"
    }
   ],
   "source": [
    "database.data.shape"
   ]
  },
  {
   "cell_type": "code",
   "execution_count": 8,
   "id": "8e91795c",
   "metadata": {
    "execution": {
     "iopub.execute_input": "2025-07-08T20:00:33.153651Z",
     "iopub.status.busy": "2025-07-08T20:00:33.152768Z",
     "iopub.status.idle": "2025-07-08T20:00:33.176322Z",
     "shell.execute_reply": "2025-07-08T20:00:33.174795Z",
     "shell.execute_reply.started": "2025-07-08T20:00:33.153606Z"
    }
   },
   "outputs": [],
   "source": [
    "#database.panel('ID')"
   ]
  },
  {
   "cell_type": "code",
   "execution_count": 9,
   "id": "b929d11e",
   "metadata": {
    "execution": {
     "iopub.execute_input": "2025-07-08T21:17:29.070256Z",
     "iopub.status.busy": "2025-07-08T21:17:29.069825Z",
     "iopub.status.idle": "2025-07-08T21:17:54.538424Z",
     "shell.execute_reply": "2025-07-08T21:17:54.536949Z",
     "shell.execute_reply.started": "2025-07-08T21:17:29.070230Z"
    }
   },
   "outputs": [
    {
     "name": "stderr",
     "output_type": "stream",
     "text": [
      "Biogeme parameters read from biogeme.toml. \n"
     ]
    }
   ],
   "source": [
    "B_COST = Beta('B_COST', 0.0, None, None, 0)\n",
    "#B_COST_S = Beta('B_COST_S', 1, None, None, 0)\n",
    "#B_COST_RND = B_COST + B_COST_S * bioDraws('b_cost_rnd', 'NORMAL')\n",
    "B_TIME = Beta('B_TIME', 0.0, None, None, 0)\n",
    "#B_TIME_S = Beta('B_TIME_S', 1, None, None, 0)\n",
    "#B_TIME_RND = B_TIME + B_TIME_S * bioDraws('b_time_rnd', 'NORMAL')\n",
    "\n",
    "\n",
    "ASC_CAR_mu = Beta('ASC_CAR_mu', 0, None, None, 0)\n",
    "ASC_TRAIN_mu = Beta('ASC_TRAIN_mu', 0, None, None, 1)\n",
    "ASC_SM_mu = Beta('ASC_SM_mu', 0, None, None, 0)\n",
    "\n",
    "ASC_CAR_var = Beta('ASC_CAR_var', 0, None, None, 1)  #0.437869\n",
    "ASC_TRAIN_var = Beta('ASC_TRAIN_var', 0, None, None, 1)\n",
    "ASC_SM_var = Beta('ASC_SM_var', 1, None, None, 0)\n",
    "\n",
    "ASC_CAR = ASC_CAR_mu + ASC_CAR_var * bioDraws('ASC_CAR', 'NORMAL_HALTON3')  # Beta('ASC_CAR', 0, None, None, 0)\n",
    "ASC_TRAIN = ASC_TRAIN_mu + ASC_TRAIN_var * bioDraws('ASC_TRAIN', 'NORMAL_HALTON3')  # Beta('ASC_TRAIN', 0, None, None, 0)  #  \n",
    "ASC_SM = ASC_SM_mu + ASC_SM_var * bioDraws('ASC_SM', 'NORMAL_HALTON3')  # Beta('ASC_SM', 0, None, None, 0)\n",
    "\n",
    "V1 = ASC_TRAIN + B_TIME * TRAIN_TT_SCALED + B_COST * TRAIN_COST_SCALED\n",
    "V2 = ASC_SM + B_TIME * SM_TT_SCALED + B_COST * SM_COST_SCALED\n",
    "V3 = ASC_CAR + B_TIME * CAR_TT_SCALED + B_COST * CAR_CO_SCALED\n",
    "\n",
    "V = {1: V1, 2: V2, 3: V3}\n",
    "av = {1: TRAIN_AV_SP, 2: SM_AV, 3: CAR_AV_SP}\n",
    "\n",
    "prob = models.logit(V, av, CHOICE)\n",
    "#logprob = log(MonteCarlo(PanelLikelihoodTrajectory(prob)))\n",
    "logprob = log(MonteCarlo(prob))\n",
    "\n",
    "the_biogeme = bio.BIOGEME(\n",
    "    database, logprob, number_of_draws=1000, seed=999   #1223\n",
    ")\n",
    "the_biogeme.modelName = 'b05normal_mixture'\n",
    "the_biogeme.generate_pickle = False\n",
    "the_biogeme.generate_html = False"
   ]
  },
  {
   "cell_type": "code",
   "execution_count": 10,
   "id": "b845391a-0161-4581-ae15-0c3b4afa80be",
   "metadata": {
    "execution": {
     "iopub.execute_input": "2025-07-08T21:04:37.358442Z",
     "iopub.status.busy": "2025-07-08T21:04:37.357833Z",
     "iopub.status.idle": "2025-07-08T21:04:37.362858Z",
     "shell.execute_reply": "2025-07-08T21:04:37.361709Z",
     "shell.execute_reply.started": "2025-07-08T21:04:37.358418Z"
    }
   },
   "outputs": [],
   "source": [
    "# asc train and sd.train 0:      init:  7140.02 bg, 6816.64 jax. final: 5254.53 bg, 5255.58 jax. results are within one std dev of biogeme, except for sd.car\n",
    "# asc train, sd.train, sd.car 0: init:  6795.00 bg, 6795.09 jax. final: 5255.67 bg, 5255.58 jax. results are practically identical, well within 1 std dev.\n",
    "\n",
    "# without constrinaing sd.car, jaxlogit says it should be zero and bg says it should be one. Let's assert it either way and see what the result is.\n",
    "# note there is an old bg worksheet at https://transp-or.epfl.ch/courses/dca2011/labs/lab11/exercise-session11.pdf that looks like it suggests sd.car should be 0 within on std dev (slightly different model spec)\n",
    "# asc train and sd.train 0, sd.car == 1: init: 7140.02 bg, 6816.64 jax.  final: 5266.07 bg, 5264.40 jax. parameters are different, within two or three std dev I think.\n",
    "# what if we let sd.car vary? if we start at 1: -0.437869\n",
    "# sd.car free, try different init vals: 0, 0.1, 1\n",
    "\n",
    "# following is the result of bg sd.car from the first result in this cell, let's see what happens when we assert it\n",
    "# asc train, sd.train, sd.car 0.437869: init: 6939.61 bg, 6795.09 jax. final: 5258.97 bg, 5255.58 jax. results within 2 std err. WHY are the initial LL vals so different?"
   ]
  },
  {
   "cell_type": "code",
   "execution_count": 11,
   "id": "33366df2",
   "metadata": {
    "execution": {
     "iopub.execute_input": "2025-07-08T21:17:54.541448Z",
     "iopub.status.busy": "2025-07-08T21:17:54.540277Z",
     "iopub.status.idle": "2025-07-08T21:17:55.893890Z",
     "shell.execute_reply": "2025-07-08T21:17:55.892785Z",
     "shell.execute_reply.started": "2025-07-08T21:17:54.541408Z"
    }
   },
   "outputs": [
    {
     "data": {
      "text/plain": [
       "-6794.99556643367"
      ]
     },
     "execution_count": 11,
     "metadata": {},
     "output_type": "execute_result"
    }
   ],
   "source": [
    "# 7138.81  - bg: -6795.28  (0. for time and cost, 0 and 1 for mean and std dev, no sm asc); jaxlogit: 6985.36 if sd trian is 0, same as for biogeme. why?\n",
    "# 6376.00  - bg: -6088.84  (-0.5 for time and cost, 0 and 1 for mean and std dev, no sm asc)\n",
    "the_biogeme.calculate_init_likelihood()"
   ]
  },
  {
   "cell_type": "code",
   "execution_count": 12,
   "id": "c6942ef1",
   "metadata": {
    "execution": {
     "iopub.execute_input": "2025-07-08T21:18:34.627284Z",
     "iopub.status.busy": "2025-07-08T21:18:34.626648Z",
     "iopub.status.idle": "2025-07-08T21:18:34.636002Z",
     "shell.execute_reply": "2025-07-08T21:18:34.634642Z",
     "shell.execute_reply.started": "2025-07-08T21:18:34.627210Z"
    }
   },
   "outputs": [
    {
     "data": {
      "text/plain": [
       "ElementsTuple(expressions={'B_TIME': Beta('B_TIME', 0.0, None, None, 0), 'B_COST': Beta('B_COST', 0.0, None, None, 0), 'ASC_SM_mu': Beta('ASC_SM_mu', 0, None, None, 0), 'ASC_SM_var': Beta('ASC_SM_var', 1, None, None, 0), 'ASC_CAR_mu': Beta('ASC_CAR_mu', 0, None, None, 0)}, indices={'ASC_CAR_mu': 0, 'ASC_SM_mu': 1, 'ASC_SM_var': 2, 'B_COST': 3, 'B_TIME': 4}, names=['ASC_CAR_mu', 'ASC_SM_mu', 'ASC_SM_var', 'B_COST', 'B_TIME'])"
      ]
     },
     "execution_count": 12,
     "metadata": {},
     "output_type": "execute_result"
    }
   ],
   "source": [
    "#the_biogeme.id_manager.free_betas_values, \n",
    "the_biogeme.id_manager.free_betas"
   ]
  },
  {
   "cell_type": "code",
   "execution_count": null,
   "id": "66fcee8c",
   "metadata": {
    "execution": {
     "iopub.execute_input": "2025-07-08T21:18:34.863722Z",
     "iopub.status.busy": "2025-07-08T21:18:34.862739Z",
     "iopub.status.idle": "2025-07-08T21:21:09.421518Z",
     "shell.execute_reply": "2025-07-08T21:21:09.420359Z",
     "shell.execute_reply.started": "2025-07-08T21:18:34.863693Z"
    }
   },
   "outputs": [
    {
     "name": "stderr",
     "output_type": "stream",
     "text": [
      "As the model is rather complex, we cancel the calculation of second derivatives. If you want to control the parameters, change the name of the algorithm in the TOML file from \"automatic\" to \"simple_bounds\" \n",
      "*** Initial values of the parameters are obtained from the file __b05normal_mixture.iter \n"
     ]
    },
    {
     "name": "stderr",
     "output_type": "stream",
     "text": [
      "Cannot read file __b05normal_mixture.iter. Statement is ignored. \n",
      "The number of draws (1000) is low. The results may not be meaningful. \n",
      "As the model is rather complex, we cancel the calculation of second derivatives. If you want to control the parameters, change the name of the algorithm in the TOML file from \"automatic\" to \"simple_bounds\" \n",
      "Optimization algorithm: hybrid Newton/BFGS with simple bounds [simple_bounds] \n",
      "** Optimization: BFGS with trust region for simple bounds \n",
      "Iter.      ASC_CAR_mu       ASC_SM_mu      ASC_SM_var          B_COST          B_TIME     Function    Relgrad   Radius      Rho      \n",
      "    0               1               1               2              -1              -1      5.4e+03      0.032        1     0.43    + \n"
     ]
    }
   ],
   "source": [
    "results = the_biogeme.estimate()\n",
    "pandas_results = results.get_estimated_parameters()\n",
    "\n",
    "print(results.short_summary())"
   ]
  },
  {
   "cell_type": "code",
   "execution_count": null,
   "id": "60f6ef0d",
   "metadata": {
    "execution": {
     "iopub.execute_input": "2025-07-08T21:21:09.423747Z",
     "iopub.status.busy": "2025-07-08T21:21:09.423023Z",
     "iopub.status.idle": "2025-07-08T21:21:09.435252Z",
     "shell.execute_reply": "2025-07-08T21:21:09.433748Z",
     "shell.execute_reply.started": "2025-07-08T21:21:09.423721Z"
    }
   },
   "outputs": [
    {
     "data": {
      "text/html": [
       "<div>\n",
       "<style scoped>\n",
       "    .dataframe tbody tr th:only-of-type {\n",
       "        vertical-align: middle;\n",
       "    }\n",
       "\n",
       "    .dataframe tbody tr th {\n",
       "        vertical-align: top;\n",
       "    }\n",
       "\n",
       "    .dataframe thead th {\n",
       "        text-align: right;\n",
       "    }\n",
       "</style>\n",
       "<table border=\"1\" class=\"dataframe\">\n",
       "  <thead>\n",
       "    <tr style=\"text-align: right;\">\n",
       "      <th></th>\n",
       "      <th>Value</th>\n",
       "      <th>Rob. Std err</th>\n",
       "      <th>Rob. t-test</th>\n",
       "      <th>Rob. p-value</th>\n",
       "    </tr>\n",
       "  </thead>\n",
       "  <tbody>\n",
       "    <tr>\n",
       "      <th>ASC_CAR_mu</th>\n",
       "      <td>0.394659</td>\n",
       "      <td>0.354601</td>\n",
       "      <td>1.112964</td>\n",
       "      <td>2.657240e-01</td>\n",
       "    </tr>\n",
       "    <tr>\n",
       "      <th>ASC_CAR_var</th>\n",
       "      <td>0.313032</td>\n",
       "      <td>0.318754</td>\n",
       "      <td>0.982049</td>\n",
       "      <td>3.260755e-01</td>\n",
       "    </tr>\n",
       "    <tr>\n",
       "      <th>ASC_SM_mu</th>\n",
       "      <td>1.019348</td>\n",
       "      <td>0.264409</td>\n",
       "      <td>3.855192</td>\n",
       "      <td>1.156390e-04</td>\n",
       "    </tr>\n",
       "    <tr>\n",
       "      <th>ASC_SM_var</th>\n",
       "      <td>3.730982</td>\n",
       "      <td>0.257232</td>\n",
       "      <td>14.504375</td>\n",
       "      <td>0.000000e+00</td>\n",
       "    </tr>\n",
       "    <tr>\n",
       "      <th>ASC_TRAIN_var</th>\n",
       "      <td>0.793294</td>\n",
       "      <td>0.208461</td>\n",
       "      <td>3.805486</td>\n",
       "      <td>1.415261e-04</td>\n",
       "    </tr>\n",
       "    <tr>\n",
       "      <th>B_COST</th>\n",
       "      <td>-1.865443</td>\n",
       "      <td>0.212572</td>\n",
       "      <td>-8.775582</td>\n",
       "      <td>0.000000e+00</td>\n",
       "    </tr>\n",
       "    <tr>\n",
       "      <th>B_TIME</th>\n",
       "      <td>-1.762190</td>\n",
       "      <td>0.244854</td>\n",
       "      <td>-7.196915</td>\n",
       "      <td>6.159517e-13</td>\n",
       "    </tr>\n",
       "  </tbody>\n",
       "</table>\n",
       "</div>"
      ],
      "text/plain": [
       "                  Value  Rob. Std err  Rob. t-test  Rob. p-value\n",
       "ASC_CAR_mu     0.394659      0.354601     1.112964  2.657240e-01\n",
       "ASC_CAR_var    0.313032      0.318754     0.982049  3.260755e-01\n",
       "ASC_SM_mu      1.019348      0.264409     3.855192  1.156390e-04\n",
       "ASC_SM_var     3.730982      0.257232    14.504375  0.000000e+00\n",
       "ASC_TRAIN_var  0.793294      0.208461     3.805486  1.415261e-04\n",
       "B_COST        -1.865443      0.212572    -8.775582  0.000000e+00\n",
       "B_TIME        -1.762190      0.244854    -7.196915  6.159517e-13"
      ]
     },
     "execution_count": 15,
     "metadata": {},
     "output_type": "execute_result"
    }
   ],
   "source": [
    "pandas_results"
   ]
  },
  {
   "cell_type": "raw",
   "id": "ce52e78d-eebb-4010-9c84-6b2f25d082b5",
   "metadata": {
    "vscode": {
     "languageId": "raw"
    }
   },
   "source": [
    "# asc train and sd.train and sd car == 0:\n",
    "\n",
    "\n",
    "# asc train - but sd not constrained\n",
    "\t        Value\tRob. Std err\tRob. t-test\tRob. p-value\n",
    "ASC_CAR_mu\t0.394659\t0.354601\t1.112964\t2.657240e-01\n",
    "ASC_CAR_var\t0.313032\t0.318754\t0.982049\t3.260755e-01\n",
    "ASC_SM_mu\t1.019348\t0.264409\t3.855192\t1.156390e-04\n",
    "ASC_SM_var\t3.730982\t0.257232\t14.504375\t0.000000e+00\n",
    "ASC_TRAIN_var\t0.793294\t0.208461\t3.805486\t1.415261e-04\n",
    "B_COST\t-1.865443\t0.212572\t-8.775582\t0.000000e+00\n",
    "B_TIME\t-1.762190\t0.244854\t-7.196915\t6.159517e-13\n",
    "\n",
    "\n",
    "#asc train and sd.train == 0, sd car == 1:\n",
    "            Value\t    Rob. Std err\n",
    "ASC_CAR_mu\t1.657632\t0.085674\n",
    "ASC_SM_mu\t2.022144\t0.213438\n",
    "ASC_SM_var\t4.279959\t0.473417\n",
    "B_COST\t    -1.720440\t0.156901\n",
    "B_TIME  \t-1.702400\t0.215729\n",
    "\n",
    "#asc train and sd.train == 0, sd car 0.437869:\n",
    "\t        Value\tRob. Std err\tRob. t-test\tRob. p-value\n",
    "ASC_CAR_mu\t1.126044\t0.078345\t14.372832\t0.000000e+00\n",
    "ASC_SM_mu\t1.554869\t0.202945\t7.661530\t1.842970e-14\n",
    "ASC_SM_var\t3.607124\t0.446832\t8.072660\t6.661338e-16\n",
    "B_COST\t   -1.718888\t0.156197\t-11.004613\t0.000000e+00\n",
    "B_TIME\t   -1.688939\t0.210269\t-8.032280\t8.881784e-16"
   ]
  },
  {
   "cell_type": "markdown",
   "id": "6cf81b07",
   "metadata": {},
   "source": [
    "## time and cost correlated"
   ]
  },
  {
   "cell_type": "code",
   "execution_count": 23,
   "id": "d64e0e56",
   "metadata": {},
   "outputs": [
    {
     "name": "stderr",
     "output_type": "stream",
     "text": [
      "Biogeme parameters read from biogeme.toml. \n"
     ]
    }
   ],
   "source": [
    "B_COST = Beta('B_COST', 0.0, None, None, 0)\n",
    "B_COST_S = Beta('B_COST_S', 1, None, None, 0)\n",
    "cost_draws = bioDraws('b_cost_rnd', 'NORMAL_HALTON3')\n",
    "\n",
    "B_TIME = Beta('B_TIME', 0.0, None, None, 0)\n",
    "B_TIME_S = Beta('B_TIME_S', 1, None, None, 0)\n",
    "time_draws = bioDraws('b_time_rnd', 'NORMAL_HALTON3')\n",
    "\n",
    "B_COST_TIME_S = Beta('B_COST_TIME_S', 1, None, None, 0)\n",
    "\n",
    "B_COST_RND = B_COST + B_COST_S * cost_draws + B_COST_TIME_S * time_draws\n",
    "B_TIME_RND = B_TIME + B_TIME_S * time_draws #+  B_COST_TIME_S * cost_draws\n",
    "\n",
    "ASC_CAR = Beta('ASC_CAR', 0, None, None, 0)\n",
    "ASC_TRAIN = Beta('ASC_TRAIN', 0, None, None, 1)\n",
    "ASC_SM = Beta('ASC_SM', 0, None, None, 0)\n",
    "\n",
    "V1 = ASC_TRAIN + B_TIME_RND * TRAIN_TT_SCALED + B_COST_RND * TRAIN_COST_SCALED\n",
    "V2 = ASC_SM + B_TIME_RND * SM_TT_SCALED + B_COST_RND * SM_COST_SCALED\n",
    "V3 = ASC_CAR + B_TIME_RND * CAR_TT_SCALED + B_COST_RND * CAR_CO_SCALED\n",
    "\n",
    "V = {1: V1, 2: V2, 3: V3}\n",
    "av = {1: TRAIN_AV_SP, 2: SM_AV, 3: CAR_AV_SP}\n",
    "\n",
    "prob = models.logit(V, av, CHOICE)\n",
    "#logprob = log(MonteCarlo(PanelLikelihoodTrajectory(prob)))\n",
    "logprob = log(MonteCarlo(prob))\n",
    "\n",
    "the_biogeme = bio.BIOGEME(\n",
    "    database, logprob, number_of_draws=1000, seed=777\n",
    ")\n",
    "the_biogeme.modelName = 'b05normal_test'\n",
    "the_biogeme.generate_pickle = False\n",
    "the_biogeme.generate_html = False"
   ]
  },
  {
   "cell_type": "code",
   "execution_count": 24,
   "id": "1a080dca",
   "metadata": {},
   "outputs": [
    {
     "data": {
      "text/plain": [
       "-6865.358935948356"
      ]
     },
     "execution_count": 24,
     "metadata": {},
     "output_type": "execute_result"
    }
   ],
   "source": [
    "the_biogeme.calculate_init_likelihood()"
   ]
  },
  {
   "cell_type": "code",
   "execution_count": 25,
   "id": "8f412f33",
   "metadata": {},
   "outputs": [
    {
     "name": "stderr",
     "output_type": "stream",
     "text": [
      "As the model is rather complex, we cancel the calculation of second derivatives. If you want to control the parameters, change the name of the algorithm in the TOML file from \"automatic\" to \"simple_bounds\" \n",
      "*** Initial values of the parameters are obtained from the file __b05normal_test.iter \n",
      "Parameter values restored from __b05normal_test.iter \n",
      "The number of draws (1000) is low. The results may not be meaningful. \n",
      "As the model is rather complex, we cancel the calculation of second derivatives. If you want to control the parameters, change the name of the algorithm in the TOML file from \"automatic\" to \"simple_bounds\" \n",
      "Optimization algorithm: hybrid Newton/BFGS with simple bounds [simple_bounds] \n",
      "** Optimization: BFGS with trust region for simple bounds \n",
      "Iter.         ASC_CAR          ASC_SM          B_COST        B_COST_S   B_COST_TIME_S          B_TIME        B_TIME_S     Function    Relgrad   Radius      Rho      \n",
      "    0            0.38            0.35              -2             1.6            0.32            -2.4             1.4      5.2e+03      0.044      0.5     -5.9    - \n",
      "    1            0.38            0.35              -2             1.6            0.32            -2.4             1.4      5.2e+03      0.044     0.25     -4.2    - \n",
      "    2            0.38            0.35              -2             1.6            0.32            -2.4             1.4      5.2e+03      0.044     0.12     -2.4    - \n",
      "    3            0.38            0.35              -2             1.6            0.32            -2.4             1.4      5.2e+03      0.044    0.062    -0.73    - \n",
      "    4            0.44            0.28              -2             1.5            0.26            -2.4             1.5      5.2e+03       0.02    0.062     0.15    + \n",
      "    5            0.38            0.35              -2             1.5            0.25            -2.4             1.5      5.2e+03      0.016    0.062     0.84    + \n",
      "    6            0.31            0.32              -2             1.5            0.19            -2.3             1.5      5.2e+03     0.0084    0.062     0.33    + \n",
      "    7            0.31            0.32              -2             1.5            0.19            -2.3             1.5      5.2e+03     0.0084    0.031     -0.2    - \n",
      "    8            0.34            0.36              -2             1.5            0.22            -2.4             1.6      5.2e+03     0.0043    0.031     0.63    + \n",
      "    9            0.34            0.36              -2             1.5            0.22            -2.4             1.6      5.2e+03     0.0043    0.016    -0.11    - \n",
      "   10            0.34            0.36              -2             1.5            0.22            -2.4             1.6      5.2e+03     0.0043   0.0078    -0.11    - \n",
      "   11            0.35            0.35              -2             1.5            0.21            -2.3             1.6      5.2e+03     0.0022   0.0078     0.65    + \n",
      "   12            0.35            0.36              -2             1.5            0.21            -2.4             1.6      5.2e+03     0.0025   0.0078     0.83    + \n",
      "   13            0.35            0.35              -2             1.5             0.2            -2.4             1.6      5.2e+03     0.0023   0.0078     0.88    + \n",
      "   14            0.35            0.36              -2             1.5             0.2            -2.4             1.6      5.2e+03     0.0021   0.0078     0.85    + \n",
      "   15            0.36            0.35              -2             1.5            0.19            -2.4             1.6      5.2e+03     0.0021   0.0078     0.87    + \n",
      "   16            0.36            0.36              -2             1.5            0.19            -2.4             1.6      5.2e+03     0.0017   0.0078     0.86    + \n",
      "   17            0.37            0.35              -2             1.5            0.19            -2.4             1.6      5.2e+03     0.0021   0.0078     0.82    + \n",
      "   18            0.36            0.36              -2             1.5            0.18            -2.4             1.6      5.2e+03     0.0013   0.0078     0.86    + \n",
      "   19            0.37            0.35              -2             1.5            0.18            -2.4             1.6      5.2e+03     0.0019   0.0078      0.8    + \n",
      "   20            0.37            0.36            -1.9             1.5            0.17            -2.4             1.6      5.2e+03    0.00097   0.0078     0.83    + \n",
      "   21            0.37            0.35            -1.9             1.4            0.17            -2.4             1.6      5.2e+03     0.0016   0.0078     0.77    + \n",
      "   22            0.37            0.36            -1.9             1.4            0.16            -2.4             1.7      5.2e+03     0.0007   0.0078      0.8    + \n",
      "   23            0.38            0.35            -1.9             1.4            0.16            -2.4             1.7      5.2e+03     0.0011   0.0078     0.77    + \n",
      "   24            0.38            0.35            -1.9             1.4            0.16            -2.4             1.7      5.2e+03    0.00042   0.0078     0.81    + \n",
      "   25            0.38            0.35            -1.9             1.4            0.15            -2.4             1.7      5.2e+03    0.00048   0.0078     0.89    + \n",
      "   26            0.38            0.35            -1.9             1.4            0.15            -2.4             1.7      5.2e+03    0.00015    0.078     0.96   ++ \n",
      "   27            0.38            0.35            -1.9             1.4            0.15            -2.4             1.7      5.2e+03    0.00015    0.039       -8    - \n",
      "   28            0.38            0.35            -1.9             1.4            0.15            -2.4             1.7      5.2e+03    0.00015     0.02     -2.7    - \n",
      "   29            0.38            0.35            -1.9             1.4            0.15            -2.4             1.7      5.2e+03    0.00015   0.0098    -0.02    - \n",
      "   30            0.38            0.35            -1.9             1.4            0.15            -2.4             1.7      5.2e+03    0.00018   0.0098     0.85    + \n",
      "   31            0.38            0.35            -1.9             1.4            0.15            -2.4             1.7      5.2e+03    0.00018   0.0049     -3.4    - \n",
      "   32            0.38            0.35            -1.9             1.4            0.15            -2.4             1.7      5.2e+03    0.00018   0.0024     -2.6    - \n",
      "   33            0.38            0.35            -1.9             1.4            0.15            -2.4             1.7      5.2e+03    0.00018   0.0012     -1.4    - \n",
      "   34            0.38            0.35            -1.9             1.4            0.15            -2.4             1.7      5.2e+03    0.00018  0.00061    0.094    - \n",
      "   35            0.38            0.35            -1.9             1.4            0.15            -2.4             1.7      5.2e+03    0.00014  0.00061     0.28    + \n",
      "   36            0.38            0.35            -1.9             1.4            0.15            -2.4             1.7      5.2e+03     0.0001  0.00061     0.23    + \n"
     ]
    },
    {
     "name": "stdout",
     "output_type": "stream",
     "text": [
      "Results for model b05normal_test\n",
      "Nbr of parameters:\t\t7\n",
      "Sample size:\t\t\t6768\n",
      "Excluded data:\t\t\t3960\n",
      "Final log likelihood:\t\t-5162.165\n",
      "Akaike Information Criterion:\t10338.33\n",
      "Bayesian Information Criterion:\t10386.07\n",
      "\n"
     ]
    }
   ],
   "source": [
    "results = the_biogeme.estimate()\n",
    "pandas_results = results.get_estimated_parameters()\n",
    "\n",
    "print(results.short_summary())"
   ]
  },
  {
   "cell_type": "code",
   "execution_count": 26,
   "id": "9b3cee39",
   "metadata": {},
   "outputs": [
    {
     "data": {
      "text/html": [
       "<div>\n",
       "<style scoped>\n",
       "    .dataframe tbody tr th:only-of-type {\n",
       "        vertical-align: middle;\n",
       "    }\n",
       "\n",
       "    .dataframe tbody tr th {\n",
       "        vertical-align: top;\n",
       "    }\n",
       "\n",
       "    .dataframe thead th {\n",
       "        text-align: right;\n",
       "    }\n",
       "</style>\n",
       "<table border=\"1\" class=\"dataframe\">\n",
       "  <thead>\n",
       "    <tr style=\"text-align: right;\">\n",
       "      <th></th>\n",
       "      <th>Value</th>\n",
       "      <th>Rob. Std err</th>\n",
       "      <th>Rob. t-test</th>\n",
       "      <th>Rob. p-value</th>\n",
       "    </tr>\n",
       "  </thead>\n",
       "  <tbody>\n",
       "    <tr>\n",
       "      <th>ASC_CAR</th>\n",
       "      <td>0.379300</td>\n",
       "      <td>0.056364</td>\n",
       "      <td>6.729448</td>\n",
       "      <td>1.703082e-11</td>\n",
       "    </tr>\n",
       "    <tr>\n",
       "      <th>ASC_SM</th>\n",
       "      <td>0.349603</td>\n",
       "      <td>0.065062</td>\n",
       "      <td>5.373407</td>\n",
       "      <td>7.726263e-08</td>\n",
       "    </tr>\n",
       "    <tr>\n",
       "      <th>B_COST</th>\n",
       "      <td>-1.943150</td>\n",
       "      <td>0.101968</td>\n",
       "      <td>-19.056481</td>\n",
       "      <td>0.000000e+00</td>\n",
       "    </tr>\n",
       "    <tr>\n",
       "      <th>B_COST_S</th>\n",
       "      <td>1.435057</td>\n",
       "      <td>0.087114</td>\n",
       "      <td>16.473322</td>\n",
       "      <td>0.000000e+00</td>\n",
       "    </tr>\n",
       "    <tr>\n",
       "      <th>B_COST_TIME_S</th>\n",
       "      <td>0.154390</td>\n",
       "      <td>0.087114</td>\n",
       "      <td>1.772277</td>\n",
       "      <td>7.634861e-02</td>\n",
       "    </tr>\n",
       "    <tr>\n",
       "      <th>B_TIME</th>\n",
       "      <td>-2.420522</td>\n",
       "      <td>0.125029</td>\n",
       "      <td>-19.359725</td>\n",
       "      <td>0.000000e+00</td>\n",
       "    </tr>\n",
       "    <tr>\n",
       "      <th>B_TIME_S</th>\n",
       "      <td>1.692977</td>\n",
       "      <td>0.146641</td>\n",
       "      <td>11.545012</td>\n",
       "      <td>0.000000e+00</td>\n",
       "    </tr>\n",
       "  </tbody>\n",
       "</table>\n",
       "</div>"
      ],
      "text/plain": [
       "                  Value  Rob. Std err  Rob. t-test  Rob. p-value\n",
       "ASC_CAR        0.379300      0.056364     6.729448  1.703082e-11\n",
       "ASC_SM         0.349603      0.065062     5.373407  7.726263e-08\n",
       "B_COST        -1.943150      0.101968   -19.056481  0.000000e+00\n",
       "B_COST_S       1.435057      0.087114    16.473322  0.000000e+00\n",
       "B_COST_TIME_S  0.154390      0.087114     1.772277  7.634861e-02\n",
       "B_TIME        -2.420522      0.125029   -19.359725  0.000000e+00\n",
       "B_TIME_S       1.692977      0.146641    11.545012  0.000000e+00"
      ]
     },
     "execution_count": 26,
     "metadata": {},
     "output_type": "execute_result"
    }
   ],
   "source": [
    "pandas_results"
   ]
  },
  {
   "cell_type": "code",
   "execution_count": null,
   "id": "d7185dc5",
   "metadata": {},
   "outputs": [],
   "source": []
  },
  {
   "cell_type": "raw",
   "id": "d00896dc",
   "metadata": {
    "vscode": {
     "languageId": "raw"
    }
   },
   "source": [
    "# on time:\n",
    "ASC_CAR\t0.376044\t0.056556\t6.649010\t2.950706e-11\n",
    "ASC_SM\t0.345192\t0.065154\t5.298136\t1.169908e-07\n",
    "B_COST\t-1.952041\t0.102660\t-19.014616\t0.000000e+00\n",
    "B_COST_S\t1.598273\t0.175504\t9.106764\t0.000000e+00\n",
    "B_COST_TIME_S\t0.317606\t0.073863\t4.299939\t1.708448e-05\n",
    "B_TIME\t-2.433773\t0.126010\t-19.314107\t0.000000e+00\n",
    "B_TIME_S\t1.388958\t0.073863\t18.804553\t0.000000e+00\n",
    "\n",
    "# on cost:\n",
    "ASC_CAR\t0.379300\t0.056364\t6.729448\t1.703082e-11\n",
    "ASC_SM\t0.349603\t0.065062\t5.373407\t7.726263e-08\n",
    "B_COST\t-1.943150\t0.101968\t-19.056481\t0.000000e+00\n",
    "B_COST_S\t1.435057\t0.087114\t16.473322\t0.000000e+00\n",
    "B_COST_TIME_S\t0.154390\t0.087114\t1.772277\t7.634861e-02\n",
    "B_TIME\t-2.420522\t0.125029\t-19.359725\t0.000000e+00\n",
    "B_TIME_S\t1.692977\t0.146641\t11.545012\t0.000000e+00"
   ]
  },
  {
   "cell_type": "code",
   "execution_count": null,
   "id": "ccd718d0",
   "metadata": {},
   "outputs": [],
   "source": []
  }
 ],
 "metadata": {
  "kernelspec": {
   "display_name": "venv",
   "language": "python",
   "name": "python3"
  },
  "language_info": {
   "codemirror_mode": {
    "name": "ipython",
    "version": 3
   },
   "file_extension": ".py",
   "mimetype": "text/x-python",
   "name": "python",
   "nbconvert_exporter": "python",
   "pygments_lexer": "ipython3",
   "version": "3.10.12"
  }
 },
 "nbformat": 4,
 "nbformat_minor": 5
}
