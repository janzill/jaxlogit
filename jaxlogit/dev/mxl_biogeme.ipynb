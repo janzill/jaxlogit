{
 "cells": [
  {
   "cell_type": "code",
   "execution_count": 1,
   "id": "9f09242f",
   "metadata": {},
   "outputs": [],
   "source": [
    "import pandas as pd\n",
    "\n",
    "import biogeme.biogeme_logging as blog\n",
    "import biogeme.biogeme as bio\n",
    "from biogeme import models\n",
    "from biogeme.expressions import Beta, bioDraws, log, MonteCarlo\n",
    "from biogeme.parameters import Parameters\n",
    "import biogeme.database as db\n",
    "from biogeme.expressions import Variable"
   ]
  },
  {
   "cell_type": "code",
   "execution_count": 2,
   "id": "8fd1a472",
   "metadata": {},
   "outputs": [
    {
     "name": "stderr",
     "output_type": "stream",
     "text": [
      "Example b05normal_mixtures.py \n"
     ]
    }
   ],
   "source": [
    "logger = blog.get_screen_logger(level=blog.INFO)\n",
    "logger.info('Example b05normal_mixtures.py')"
   ]
  },
  {
   "cell_type": "code",
   "execution_count": 3,
   "id": "ee4fabe7",
   "metadata": {},
   "outputs": [],
   "source": [
    "df = pd.read_table(\"http://transp-or.epfl.ch/data/swissmetro.dat\", sep='\\t')\n",
    "database = db.Database('swissmetro', df)\n",
    "\n",
    "GROUP = Variable('GROUP')\n",
    "SURVEY = Variable('SURVEY')\n",
    "SP = Variable('SP')\n",
    "ID = Variable('ID')\n",
    "PURPOSE = Variable('PURPOSE')\n",
    "FIRST = Variable('FIRST')\n",
    "TICKET = Variable('TICKET')\n",
    "WHO = Variable('WHO')\n",
    "LUGGAGE = Variable('LUGGAGE')\n",
    "AGE = Variable('AGE')\n",
    "MALE = Variable('MALE')\n",
    "INCOME = Variable('INCOME')\n",
    "GA = Variable('GA')\n",
    "ORIGIN = Variable('ORIGIN')\n",
    "DEST = Variable('DEST')\n",
    "TRAIN_AV = Variable('TRAIN_AV')\n",
    "CAR_AV = Variable('CAR_AV')\n",
    "SM_AV = Variable('SM_AV')\n",
    "TRAIN_TT = Variable('TRAIN_TT')\n",
    "TRAIN_CO = Variable('TRAIN_CO')\n",
    "TRAIN_HE = Variable('TRAIN_HE')\n",
    "SM_TT = Variable('SM_TT')\n",
    "SM_CO = Variable('SM_CO')\n",
    "SM_HE = Variable('SM_HE')\n",
    "SM_SEATS = Variable('SM_SEATS')\n",
    "CAR_TT = Variable('CAR_TT')\n",
    "CAR_CO = Variable('CAR_CO')\n",
    "CHOICE = Variable('CHOICE')"
   ]
  },
  {
   "cell_type": "code",
   "execution_count": 4,
   "id": "19a34666",
   "metadata": {},
   "outputs": [],
   "source": [
    "exclude = ((PURPOSE != 1) * (PURPOSE != 3) + (CHOICE == 0)) > 0\n",
    "database.remove(exclude)\n",
    "\n",
    "SM_COST = database.define_variable('SM_COST', SM_CO * (GA == 0))\n",
    "TRAIN_COST = database.define_variable('TRAIN_COST', TRAIN_CO * (GA == 0))\n",
    "CAR_AV_SP = database.define_variable('CAR_AV_SP', CAR_AV * (SP != 0))\n",
    "TRAIN_AV_SP = database.define_variable('TRAIN_AV_SP', TRAIN_AV * (SP != 0))\n",
    "TRAIN_TT_SCALED = database.define_variable('TRAIN_TT_SCALED', TRAIN_TT / 100)\n",
    "TRAIN_COST_SCALED = database.define_variable('TRAIN_COST_SCALED', TRAIN_COST / 100)\n",
    "SM_TT_SCALED = database.define_variable('SM_TT_SCALED', SM_TT / 100)\n",
    "SM_COST_SCALED = database.define_variable('SM_COST_SCALED', SM_COST / 100)\n",
    "CAR_TT_SCALED = database.define_variable('CAR_TT_SCALED', CAR_TT / 100)\n",
    "CAR_CO_SCALED = database.define_variable('CAR_CO_SCALED', CAR_CO / 100)"
   ]
  },
  {
   "cell_type": "code",
   "execution_count": 5,
   "id": "cea329f5",
   "metadata": {},
   "outputs": [
    {
     "data": {
      "text/plain": [
       "(6768, 38)"
      ]
     },
     "execution_count": 5,
     "metadata": {},
     "output_type": "execute_result"
    }
   ],
   "source": [
    "database.data.shape"
   ]
  },
  {
   "cell_type": "code",
   "execution_count": null,
   "id": "b929d11e",
   "metadata": {},
   "outputs": [
    {
     "name": "stderr",
     "output_type": "stream",
     "text": [
      "Biogeme parameters read from biogeme.toml. \n"
     ]
    }
   ],
   "source": [
    "B_COST = Beta('B_COST', 0, None, None, 0)\n",
    "B_TIME = Beta('B_TIME', 0, None, None, 0)\n",
    "# B_TIME_S = Beta('B_TIME_S', 1, None, None, 0)\n",
    "# B_TIME_RND = B_TIME + B_TIME_S * bioDraws('b_time_rnd', 'NORMAL')\n",
    "\n",
    "\n",
    "ASC_CAR_mu = Beta('ASC_CAR_mu', 0, None, None, 0)\n",
    "ASC_TRAIN_mu = Beta('ASC_TRAIN_mu', 0, None, None, 0)\n",
    "ASC_SM_mu = Beta('ASC_SM_mu', 0, None, None, 1)\n",
    "\n",
    "ASC_CAR_var = Beta('ASC_CAR_var', 1, None, None, 0)\n",
    "ASC_TRAIN_var = Beta('ASC_TRAIN_var', 0, None, None, 1)\n",
    "ASC_SM_var = Beta('ASC_SM_var', 1, None, None, 0)\n",
    "\n",
    "ASC_SM_draws = bioDraws('ASC_SM_draws', 'NORMAL_HALTON3')\n",
    "ASC_TRAIN_draws = bioDraws('ASC_TRAIN_draws', 'NORMAL_HALTON3')\n",
    "ASC_CAR_draws = bioDraws('ASC_CAR_draws', 'NORMAL_HALTON3')\n",
    "\n",
    "ASC_CAR = ASC_CAR_mu + ASC_CAR_var * ASC_CAR_draws  # Beta('ASC_CAR', 0, None, None, 0)\n",
    "ASC_TRAIN = ASC_TRAIN_mu + ASC_TRAIN_var * ASC_TRAIN_draws  # Beta('ASC_TRAIN', 0, None, None, 0)\n",
    "ASC_SM = ASC_SM_mu + ASC_SM_var * ASC_SM_draws  # Beta('ASC_SM', 0, None, None, 0)\n",
    "\n",
    "V1 = ASC_TRAIN + B_TIME * TRAIN_TT_SCALED + B_COST * TRAIN_COST_SCALED\n",
    "V2 = ASC_SM + B_TIME * SM_TT_SCALED + B_COST * SM_COST_SCALED\n",
    "V3 = ASC_CAR + B_TIME * CAR_TT_SCALED + B_COST * CAR_CO_SCALED\n",
    "\n",
    "V = {1: V1, 2: V2, 3: V3}\n",
    "av = {1: TRAIN_AV_SP, 2: SM_AV, 3: CAR_AV_SP}\n",
    "prob = models.logit(V, av, CHOICE)\n",
    "logprob = log(MonteCarlo(prob))\n",
    "\n",
    "the_biogeme = bio.BIOGEME(\n",
    "    database, logprob, number_of_draws=1000, seed=1223\n",
    ")\n",
    "the_biogeme.modelName = 'b05normal_mixture'\n",
    "the_biogeme.generate_pickle = False\n",
    "the_biogeme.generate_html = False\n",
    "\n",
    "results = the_biogeme.estimate()\n",
    "\n",
    "print(results.short_summary())\n",
    "\n",
    "pandas_results = results.get_estimated_parameters()\n",
    "pandas_results"
   ]
  },
  {
   "cell_type": "code",
   "execution_count": null,
   "id": "66fcee8c",
   "metadata": {},
   "outputs": [],
   "source": []
  },
  {
   "cell_type": "code",
   "execution_count": null,
   "id": "60f6ef0d",
   "metadata": {},
   "outputs": [],
   "source": []
  }
 ],
 "metadata": {
  "kernelspec": {
   "display_name": "venv",
   "language": "python",
   "name": "python3"
  },
  "language_info": {
   "codemirror_mode": {
    "name": "ipython",
    "version": 3
   },
   "file_extension": ".py",
   "mimetype": "text/x-python",
   "name": "python",
   "nbconvert_exporter": "python",
   "pygments_lexer": "ipython3",
   "version": "3.10.12"
  }
 },
 "nbformat": 4,
 "nbformat_minor": 5
}
