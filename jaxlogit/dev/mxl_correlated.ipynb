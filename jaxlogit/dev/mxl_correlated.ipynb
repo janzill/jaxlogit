{
  "cells": [
    {
      "cell_type": "markdown",
      "metadata": {
        "id": "TJHlxbR5kEe-"
      },
      "source": [
        "# Mixed Logit with correlations\n",
        "\n",
        "Using swissmetro data, comparing results to biogeme (Bierlaire, M. (2018). PandasBiogeme: a short introduction. EPFL (Transport and Mobility Laboratory, ENAC))\n"
      ]
    },
    {
      "cell_type": "code",
      "execution_count": 1,
      "metadata": {
        "colab": {
          "base_uri": "https://localhost:8080/"
        },
        "id": "NQbZt7CVh8f_",
        "outputId": "b823e80f-fd47-4dd1-8656-3fd0d6a1e26a"
      },
      "outputs": [],
      "source": [
        "import pandas as pd\n",
        "import numpy as np\n",
        "import jax\n",
        "\n",
        "from jaxlogit.mixed_logit import MixedLogit\n",
        "from jaxlogit.utils import wide_to_long"
      ]
    },
    {
      "cell_type": "code",
      "execution_count": 2,
      "metadata": {},
      "outputs": [],
      "source": [
        "#  64bit precision\n",
        "jax.config.update(\"jax_enable_x64\", True)"
      ]
    },
    {
      "cell_type": "markdown",
      "metadata": {
        "id": "MP77ezqVfvRI"
      },
      "source": [
        "## Swissmetro Dataset"
      ]
    },
    {
      "cell_type": "code",
      "execution_count": 3,
      "metadata": {
        "colab": {
          "base_uri": "https://localhost:8080/",
          "height": 424
        },
        "id": "4jqERhnWhGCc",
        "outputId": "6bbdca2a-1670-4836-c0d5-d16915ee9597"
      },
      "outputs": [
        {
          "name": "stdout",
          "output_type": "stream",
          "text": [
            "Excluding 0 observations from 6768 total observations.\n"
          ]
        }
      ],
      "source": [
        "df_wide = pd.read_table(\"http://transp-or.epfl.ch/data/swissmetro.dat\", sep='\\t')\n",
        "\n",
        "# Keep only observations for commute and business purposes that contain known choices\n",
        "df_wide = df_wide[(df_wide['PURPOSE'].isin([1, 3]) & (df_wide['CHOICE'] != 0))]\n",
        "\n",
        "df_wide['custom_id'] = np.arange(len(df_wide))  # Add unique identifier\n",
        "df_wide['CHOICE'] = df_wide['CHOICE'].map({1: 'TRAIN', 2:'SM', 3: 'CAR'})\n",
        "\n",
        "# biogeme data prep\n",
        "#exclude = ((PURPOSE != 1) * (PURPOSE != 3) + (CHOICE == 0)) > 0\n",
        "exclude = ((df_wide['PURPOSE'] != 1) * (df_wide['PURPOSE'] != 3) + (df_wide['CHOICE'] == 0)) > 0\n",
        "print(f\"Excluding {exclude.sum()} observations from {len(df_wide)} total observations.\")\n",
        "df_wide = df_wide[~exclude]"
      ]
    },
    {
      "cell_type": "code",
      "execution_count": 4,
      "metadata": {},
      "outputs": [],
      "source": [
        "#TRAIN_AV_SP = database.define_variable('TRAIN_AV_SP', TRAIN_AV * (SP != 0))\n",
        "df_wide['TRAIN_AV'] = df_wide['TRAIN_AV'] * (df_wide['SP'] != 0)\n",
        "# CAR_AV_SP = database.define_variable('CAR_AV_SP', CAR_AV * (SP != 0))\n",
        "df_wide['CAR_AV'] = df_wide['CAR_AV'] * (df_wide['SP'] != 0)"
      ]
    },
    {
      "cell_type": "code",
      "execution_count": 5,
      "metadata": {
        "colab": {
          "base_uri": "https://localhost:8080/",
          "height": 424
        },
        "id": "1KM-BvFvhWed",
        "outputId": "33a6bacf-9674-4fec-eeca-90ab763a3308"
      },
      "outputs": [],
      "source": [
        "df = wide_to_long(df_wide, id_col='custom_id', alt_name='alt', sep='_',\n",
        "                  alt_list=['TRAIN', 'SM', 'CAR'], empty_val=0,\n",
        "                  varying=['TT', 'CO', 'HE', 'AV', 'SEATS'], alt_is_prefix=True)"
      ]
    },
    {
      "cell_type": "code",
      "execution_count": 6,
      "metadata": {
        "id": "MsSu2jqKeoz-"
      },
      "outputs": [],
      "source": [
        "df['ASC_TRAIN'] = np.where(df['alt'] == 'TRAIN', 1, 0)\n",
        "df['ASC_CAR'] = np.where(df['alt'] == 'CAR', 1, 0)\n",
        "df['ASC_SM'] = np.where(df['alt'] == 'SM', 1, 0)\n",
        "\n",
        "df['TT'] = df['TT'] / 100.0\n",
        "df['CO'] = df['CO'] / 100.0\n",
        "\n",
        "annual_pass = (df['GA'] == 1) & (df['alt'].isin(['TRAIN', 'SM']))\n",
        "df.loc[annual_pass, 'CO'] = 0  # Cost zero for pass holders\n",
        "\n",
        "## Now above before long to wide\n",
        "#CAR_AV_SP = database.define_variable('CAR_AV_SP', CAR_AV * (SP != 0))\n",
        "#TRAIN_AV_SP = database.define_variable('TRAIN_AV_SP', TRAIN_AV * (SP != 0))\n",
        "#df.loc[(df['SP'] == 0) & (df['alt'].isin(['CAR', 'TRAIN'])), 'AV'] = 0"
      ]
    },
    {
      "cell_type": "code",
      "execution_count": 7,
      "metadata": {},
      "outputs": [
        {
          "data": {
            "text/plain": [
              "np.int64(6768)"
            ]
          },
          "execution_count": 7,
          "metadata": {},
          "output_type": "execute_result"
        }
      ],
      "source": [
        "df.custom_id.unique().max() + 1"
      ]
    },
    {
      "cell_type": "code",
      "execution_count": 8,
      "metadata": {},
      "outputs": [],
      "source": [
        "# model.coeff_names\n",
        "# array(['ASC_CAR', 'ASC_TRAIN', 'ASC_SM', 'CO', 'TT', 'sd.ASC_CAR', 'sd.ASC_TRAIN', 'sd.ASC_SM'], dtype='<U12')\n",
        "init_vals = [0.0, 0.0, 0.0, 0.0, 0.0, 1.0, 0.0, 1.0]"
      ]
    },
    {
      "cell_type": "code",
      "execution_count": 10,
      "metadata": {},
      "outputs": [
        {
          "name": "stderr",
          "output_type": "stream",
          "text": [
            "2025-07-07 16:40:46,247 INFO jaxlogit.mixed_logit: Starting data preparation, including generation of 2000 random draws for each random variable and observation.\n"
          ]
        },
        {
          "name": "stderr",
          "output_type": "stream",
          "text": [
            "2025-07-07 16:40:55,088 INFO jaxlogit.mixed_logit: Compiling log-likelihood function.\n",
            "2025-07-07 16:40:55,606 INFO jaxlogit.mixed_logit: Compilation finished, init neg_loglike = 6816.59\n",
            "2025-07-07 16:40:55,608 INFO jaxlogit._optimize: Running minimization with method L-BFGS-B\n",
            "2025-07-07 16:40:57,770 INFO jaxlogit._optimize: Iter 1, fun = 5656.014, |grad| = 575.180\n",
            "2025-07-07 16:40:58,994 INFO jaxlogit._optimize: Iter 2, fun = 5464.520, |grad| = 303.995\n",
            "2025-07-07 16:41:00,138 INFO jaxlogit._optimize: Iter 3, fun = 5346.907, |grad| = 171.981\n",
            "2025-07-07 16:41:01,489 INFO jaxlogit._optimize: Iter 4, fun = 5301.962, |grad| = 58.851\n",
            "2025-07-07 16:41:02,703 INFO jaxlogit._optimize: Iter 5, fun = 5291.043, |grad| = 48.407\n",
            "2025-07-07 16:41:04,149 INFO jaxlogit._optimize: Iter 6, fun = 5279.227, |grad| = 65.026\n",
            "2025-07-07 16:41:05,471 INFO jaxlogit._optimize: Iter 7, fun = 5267.343, |grad| = 92.726\n",
            "2025-07-07 16:41:06,782 INFO jaxlogit._optimize: Iter 8, fun = 5260.180, |grad| = 46.869\n",
            "2025-07-07 16:41:08,135 INFO jaxlogit._optimize: Iter 9, fun = 5257.814, |grad| = 28.452\n",
            "2025-07-07 16:41:09,463 INFO jaxlogit._optimize: Iter 10, fun = 5256.060, |grad| = 8.387\n",
            "2025-07-07 16:41:10,586 INFO jaxlogit._optimize: Iter 11, fun = 5255.768, |grad| = 6.789\n",
            "2025-07-07 16:41:11,813 INFO jaxlogit._optimize: Iter 12, fun = 5255.473, |grad| = 2.492\n",
            "2025-07-07 16:41:13,131 INFO jaxlogit._optimize: Iter 13, fun = 5255.447, |grad| = 0.681\n",
            "2025-07-07 16:41:15,113 INFO jaxlogit._optimize: Iter 14, fun = 5255.446, |grad| = 0.377\n",
            "2025-07-07 16:41:16,467 INFO jaxlogit._optimize: Iter 15, fun = 5255.446, |grad| = 0.229\n",
            "2025-07-07 16:41:17,698 INFO jaxlogit._optimize: Iter 16, fun = 5255.446, |grad| = 0.074\n",
            "2025-07-07 16:41:18,842 INFO jaxlogit._optimize: Iter 17, fun = 5255.446, |grad| = 0.043\n",
            "2025-07-07 16:41:20,126 INFO jaxlogit._optimize: Iter 18, fun = 5255.446, |grad| = 0.012\n",
            "2025-07-07 16:41:22,204 INFO jaxlogit._optimize: Iter 19, fun = 5255.446, |grad| = 0.002\n",
            "2025-07-07 16:41:22,206 INFO jaxlogit.mixed_logit: Optimization finished, success = True, final loglike = -5255.45\n",
            "2025-07-07 16:41:22,207 INFO jaxlogit.mixed_logit: Calculating gradient of individual log-likelihood contributions\n",
            "2025-07-07 16:41:29,578 INFO jaxlogit.mixed_logit: Calculating H_inv\n",
            "2025-07-07 16:41:50,158 INFO jaxlogit._choice_model: Post fit processing\n",
            "/home/jzill/code/jaxlogit/jaxlogit/_choice_model.py:114: RuntimeWarning: invalid value encountered in divide\n",
            "  self.zvalues = self.coeff_ / self.stderr\n",
            "2025-07-07 16:41:50,183 INFO jaxlogit._choice_model: Optimization terminated successfully.\n"
          ]
        },
        {
          "name": "stdout",
          "output_type": "stream",
          "text": [
            "    Message: CONVERGENCE: RELATIVE REDUCTION OF F <= FACTR*EPSMCH\n",
            "    Iterations: 19\n",
            "    Function evaluations: 22\n",
            "Estimation time= 63.9 seconds\n",
            "---------------------------------------------------------------------------\n",
            "Coefficient              Estimate      Std.Err.         z-val         P>|z|\n",
            "---------------------------------------------------------------------------\n",
            "ASC_CAR                -0.4959902     0.0905947    -5.4748277      4.54e-08 ***\n",
            "ASC_TRAIN              -1.2494991     0.1094049   -11.4208742      6.18e-30 ***\n",
            "ASC_SM                  0.0000000     0.0000000           nan           nan    \n",
            "CO                     -1.7616644     0.1021400   -17.2475416      2.86e-65 ***\n",
            "TT                     -1.7162396     0.0972969   -17.6392047      4.05e-68 ***\n",
            "sd.ASC_CAR              0.0034497     0.2152555     0.0160261         0.987    \n",
            "sd.ASC_TRAIN            0.0000000     0.0000000           nan           nan    \n",
            "sd.ASC_SM               3.1942063     0.2543524    12.5581909      8.96e-36 ***\n",
            "---------------------------------------------------------------------------\n",
            "Significance:  0 '***' 0.001 '**' 0.01 '*' 0.05 '.' 0.1 ' ' 1\n",
            "\n",
            "Log-Likelihood= -5255.446\n",
            "AIC= 10522.892\n",
            "BIC= 10563.812\n"
          ]
        }
      ],
      "source": [
        "varnames=['ASC_CAR', 'ASC_TRAIN', 'ASC_SM', 'CO', 'TT']\n",
        "\n",
        "randvars={'ASC_CAR': 'n', 'ASC_TRAIN': 'n', 'ASC_SM': 'n'}\n",
        "fixedvars = {'ASC_SM': 0.0, 'sd.ASC_TRAIN': 0.0}  # Mean and variance of SM is fixed to 0\n",
        "\n",
        "do_panel = False\n",
        "\n",
        "model = MixedLogit()\n",
        "res = model.fit(\n",
        "    X=df[varnames],\n",
        "    y=df['CHOICE'],\n",
        "    varnames=varnames,\n",
        "    alts=df['alt'],\n",
        "    ids=df['custom_id'],\n",
        "    avail=df['AV'],\n",
        "    panels=None if do_panel is False else df[\"ID\"],\n",
        "    randvars=randvars,\n",
        "    n_draws=2000,\n",
        "    fixedvars=fixedvars,\n",
        "    init_coeff=init_vals,\n",
        "    include_correlations=False,  # Enable correlation between random parameters\n",
        ")\n",
        "model.summary()"
      ]
    },
    {
      "cell_type": "code",
      "execution_count": null,
      "metadata": {},
      "outputs": [],
      "source": []
    },
    {
      "cell_type": "code",
      "execution_count": null,
      "metadata": {},
      "outputs": [],
      "source": [
        "# install xlogit, compare. something has gone wrong here I think, why are results so different?"
      ]
    },
    {
      "cell_type": "code",
      "execution_count": null,
      "metadata": {},
      "outputs": [],
      "source": []
    },
    {
      "cell_type": "code",
      "execution_count": null,
      "metadata": {},
      "outputs": [],
      "source": []
    },
    {
      "cell_type": "code",
      "execution_count": null,
      "metadata": {},
      "outputs": [],
      "source": []
    },
    {
      "cell_type": "code",
      "execution_count": 11,
      "metadata": {},
      "outputs": [
        {
          "data": {
            "text/plain": [
              "array(['ASC_CAR', 'ASC_TRAIN', 'ASC_SM', 'CO', 'TT', 'sd.ASC_CAR',\n",
              "       'sd.ASC_TRAIN', 'sd.ASC_SM'], dtype='<U12')"
            ]
          },
          "execution_count": 11,
          "metadata": {},
          "output_type": "execute_result"
        }
      ],
      "source": [
        "model.coeff_names"
      ]
    },
    {
      "cell_type": "code",
      "execution_count": 15,
      "metadata": {},
      "outputs": [],
      "source": [
        "import jax.numpy as jnp\n",
        "\n",
        "tril_rows, tril_cols = jnp.tril_indices(8)\n",
        "diag_mask = tril_rows == tril_cols\n",
        "off_diag_mask = ~diag_mask"
      ]
    },
    {
      "cell_type": "code",
      "execution_count": 18,
      "metadata": {},
      "outputs": [],
      "source": [
        "diag_vals = jnp.array([1.0, 2.0, 3.0, 4.0, 5.0, 6.0, 7.0, 8.0])\n",
        "off_diag_vals = jnp.array([0.1, 0.2, 0.3, 0.4, 0.5, 0.6, 0.7, 0.8, 0.9, 1.0, 1.1, 1.2, 1.3, 1.4, 1.5, 1.6])"
      ]
    },
    {
      "cell_type": "code",
      "execution_count": 19,
      "metadata": {},
      "outputs": [],
      "source": [
        "tril_vals = jnp.where(\n",
        "    diag_mask,\n",
        "    diag_vals[tril_rows],  # diagonal values\n",
        "    off_diag_vals[jnp.cumsum(off_diag_mask) - 1]  # off-diagonal values\n",
        ")"
      ]
    },
    {
      "cell_type": "code",
      "execution_count": 20,
      "metadata": {},
      "outputs": [
        {
          "data": {
            "text/plain": [
              "Array([1. , 0.1, 2. , 0.2, 0.3, 3. , 0.4, 0.5, 0.6, 4. , 0.7, 0.8, 0.9,\n",
              "       1. , 5. , 1.1, 1.2, 1.3, 1.4, 1.5, 6. , 1.6, 1.6, 1.6, 1.6, 1.6,\n",
              "       1.6, 7. , 1.6, 1.6, 1.6, 1.6, 1.6, 1.6, 1.6, 8. ], dtype=float64)"
            ]
          },
          "execution_count": 20,
          "metadata": {},
          "output_type": "execute_result"
        }
      ],
      "source": [
        "tril_vals"
      ]
    },
    {
      "cell_type": "code",
      "execution_count": 21,
      "metadata": {},
      "outputs": [],
      "source": [
        "L = jnp.zeros((8, 8))\n",
        "L = L.at[tril_rows, tril_cols].set(tril_vals)\n"
      ]
    },
    {
      "cell_type": "code",
      "execution_count": 22,
      "metadata": {},
      "outputs": [
        {
          "data": {
            "text/plain": [
              "Array([[1. , 0. , 0. , 0. , 0. , 0. , 0. , 0. ],\n",
              "       [0.1, 2. , 0. , 0. , 0. , 0. , 0. , 0. ],\n",
              "       [0.2, 0.3, 3. , 0. , 0. , 0. , 0. , 0. ],\n",
              "       [0.4, 0.5, 0.6, 4. , 0. , 0. , 0. , 0. ],\n",
              "       [0.7, 0.8, 0.9, 1. , 5. , 0. , 0. , 0. ],\n",
              "       [1.1, 1.2, 1.3, 1.4, 1.5, 6. , 0. , 0. ],\n",
              "       [1.6, 1.6, 1.6, 1.6, 1.6, 1.6, 7. , 0. ],\n",
              "       [1.6, 1.6, 1.6, 1.6, 1.6, 1.6, 1.6, 8. ]], dtype=float64)"
            ]
          },
          "execution_count": 22,
          "metadata": {},
          "output_type": "execute_result"
        }
      ],
      "source": [
        "L"
      ]
    },
    {
      "cell_type": "code",
      "execution_count": null,
      "metadata": {},
      "outputs": [],
      "source": []
    }
  ],
  "metadata": {
    "accelerator": "GPU",
    "colab": {
      "collapsed_sections": [],
      "name": "mixed_logit_model.ipynb",
      "provenance": []
    },
    "kernelspec": {
      "display_name": "venv",
      "language": "python",
      "name": "python3"
    },
    "language_info": {
      "codemirror_mode": {
        "name": "ipython",
        "version": 3
      },
      "file_extension": ".py",
      "mimetype": "text/x-python",
      "name": "python",
      "nbconvert_exporter": "python",
      "pygments_lexer": "ipython3",
      "version": "3.10.12"
    }
  },
  "nbformat": 4,
  "nbformat_minor": 0
}
