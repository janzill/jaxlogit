{
 "cells": [
  {
   "cell_type": "markdown",
   "id": "72e1943e",
   "metadata": {},
   "source": [
    "# Comparison of biogeme and jaxlogit on swissmetro data\n",
    "\n",
    "Comparing panel estimation among other things. Biogeme code mostly from examples at https://biogeme.epfl.ch/sphinx/auto_examples/swissmetro/index.html"
   ]
  },
  {
   "cell_type": "code",
   "execution_count": 1,
   "id": "9f09242f",
   "metadata": {
    "execution": {
     "iopub.execute_input": "2025-07-08T20:00:27.562795Z",
     "iopub.status.busy": "2025-07-08T20:00:27.562189Z",
     "iopub.status.idle": "2025-07-08T20:00:28.870615Z",
     "shell.execute_reply": "2025-07-08T20:00:28.869251Z",
     "shell.execute_reply.started": "2025-07-08T20:00:27.562754Z"
    }
   },
   "outputs": [],
   "source": [
    "import pandas as pd\n",
    "\n",
    "import biogeme.biogeme_logging as blog\n",
    "import biogeme.biogeme as bio\n",
    "from biogeme import models\n",
    "from biogeme.expressions import Beta, bioDraws, log, MonteCarlo, PanelLikelihoodTrajectory\n",
    "import biogeme.database as db\n",
    "from biogeme.expressions import Variable"
   ]
  },
  {
   "cell_type": "code",
   "execution_count": 2,
   "id": "8fd1a472",
   "metadata": {
    "execution": {
     "iopub.execute_input": "2025-07-08T20:00:28.872959Z",
     "iopub.status.busy": "2025-07-08T20:00:28.872237Z",
     "iopub.status.idle": "2025-07-08T20:00:28.879380Z",
     "shell.execute_reply": "2025-07-08T20:00:28.877810Z",
     "shell.execute_reply.started": "2025-07-08T20:00:28.872901Z"
    }
   },
   "outputs": [],
   "source": [
    "logger = blog.get_screen_logger(level=blog.INFO)"
   ]
  },
  {
   "cell_type": "code",
   "execution_count": 3,
   "id": "ee4fabe7",
   "metadata": {
    "execution": {
     "iopub.execute_input": "2025-07-08T20:00:28.881353Z",
     "iopub.status.busy": "2025-07-08T20:00:28.880880Z",
     "iopub.status.idle": "2025-07-08T20:00:32.655613Z",
     "shell.execute_reply": "2025-07-08T20:00:32.654422Z",
     "shell.execute_reply.started": "2025-07-08T20:00:28.881299Z"
    }
   },
   "outputs": [],
   "source": [
    "df = pd.read_table(\"http://transp-or.epfl.ch/data/swissmetro.dat\", sep='\\t')"
   ]
  },
  {
   "cell_type": "code",
   "execution_count": 4,
   "id": "c1d05738",
   "metadata": {
    "execution": {
     "iopub.execute_input": "2025-07-08T20:00:32.656991Z",
     "iopub.status.busy": "2025-07-08T20:00:32.656713Z",
     "iopub.status.idle": "2025-07-08T20:00:32.670798Z",
     "shell.execute_reply": "2025-07-08T20:00:32.669235Z",
     "shell.execute_reply.started": "2025-07-08T20:00:32.656968Z"
    }
   },
   "outputs": [
    {
     "data": {
      "text/plain": [
       "False    6768\n",
       "True     3960\n",
       "Name: count, dtype: int64"
      ]
     },
     "execution_count": 4,
     "metadata": {},
     "output_type": "execute_result"
    }
   ],
   "source": [
    "(((df.PURPOSE != 1) * (df.PURPOSE != 3) + (df.CHOICE == 0)) > 0).value_counts()"
   ]
  },
  {
   "cell_type": "code",
   "execution_count": 6,
   "id": "19a34666",
   "metadata": {
    "execution": {
     "iopub.execute_input": "2025-07-08T20:00:32.712634Z",
     "iopub.status.busy": "2025-07-08T20:00:32.712105Z",
     "iopub.status.idle": "2025-07-08T20:00:33.137449Z",
     "shell.execute_reply": "2025-07-08T20:00:33.136399Z",
     "shell.execute_reply.started": "2025-07-08T20:00:32.712608Z"
    }
   },
   "outputs": [
    {
     "name": "stdout",
     "output_type": "stream",
     "text": [
      "Removing 3960 rows from the database based on the exclusion criteria.\n"
     ]
    }
   ],
   "source": [
    "database = db.Database('swissmetro', df)\n",
    "\n",
    "GROUP = Variable('GROUP')\n",
    "SURVEY = Variable('SURVEY')\n",
    "SP = Variable('SP')\n",
    "ID = Variable('ID')\n",
    "PURPOSE = Variable('PURPOSE')\n",
    "FIRST = Variable('FIRST')\n",
    "TICKET = Variable('TICKET')\n",
    "WHO = Variable('WHO')\n",
    "LUGGAGE = Variable('LUGGAGE')\n",
    "AGE = Variable('AGE')\n",
    "MALE = Variable('MALE')\n",
    "INCOME = Variable('INCOME')\n",
    "GA = Variable('GA')\n",
    "ORIGIN = Variable('ORIGIN')\n",
    "DEST = Variable('DEST')\n",
    "TRAIN_AV = Variable('TRAIN_AV')\n",
    "CAR_AV = Variable('CAR_AV')\n",
    "SM_AV = Variable('SM_AV')\n",
    "TRAIN_TT = Variable('TRAIN_TT')\n",
    "TRAIN_CO = Variable('TRAIN_CO')\n",
    "TRAIN_HE = Variable('TRAIN_HE')\n",
    "SM_TT = Variable('SM_TT')\n",
    "SM_CO = Variable('SM_CO')\n",
    "SM_HE = Variable('SM_HE')\n",
    "SM_SEATS = Variable('SM_SEATS')\n",
    "CAR_TT = Variable('CAR_TT')\n",
    "CAR_CO = Variable('CAR_CO')\n",
    "CHOICE = Variable('CHOICE')\n",
    "\n",
    "exclude = ((PURPOSE != 1) * (PURPOSE != 3) + (CHOICE == 0)) > 0\n",
    "print(f\"Removing {(((df.PURPOSE != 1) * (df.PURPOSE != 3) + (df.CHOICE == 0)) > 0).sum()} rows from the database based on the exclusion criteria.\")\n",
    "database.remove(exclude)\n",
    "\n",
    "SM_COST = database.define_variable('SM_COST', SM_CO * (GA == 0))\n",
    "TRAIN_COST = database.define_variable('TRAIN_COST', TRAIN_CO * (GA == 0))\n",
    "CAR_AV_SP = database.define_variable('CAR_AV_SP', CAR_AV * (SP != 0))\n",
    "TRAIN_AV_SP = database.define_variable('TRAIN_AV_SP', TRAIN_AV * (SP != 0))\n",
    "TRAIN_TT_SCALED = database.define_variable('TRAIN_TT_SCALED', TRAIN_TT / 100)\n",
    "TRAIN_COST_SCALED = database.define_variable('TRAIN_COST_SCALED', TRAIN_COST / 100)\n",
    "SM_TT_SCALED = database.define_variable('SM_TT_SCALED', SM_TT / 100)\n",
    "SM_COST_SCALED = database.define_variable('SM_COST_SCALED', SM_COST / 100)\n",
    "CAR_TT_SCALED = database.define_variable('CAR_TT_SCALED', CAR_TT / 100)\n",
    "CAR_CO_SCALED = database.define_variable('CAR_CO_SCALED', CAR_CO / 100)"
   ]
  },
  {
   "cell_type": "code",
   "execution_count": 9,
   "id": "8e91795c",
   "metadata": {
    "execution": {
     "iopub.execute_input": "2025-07-08T20:00:33.153651Z",
     "iopub.status.busy": "2025-07-08T20:00:33.152768Z",
     "iopub.status.idle": "2025-07-08T20:00:33.176322Z",
     "shell.execute_reply": "2025-07-08T20:00:33.174795Z",
     "shell.execute_reply.started": "2025-07-08T20:00:33.153606Z"
    }
   },
   "outputs": [],
   "source": [
    "# panel data\n",
    "database.panel('ID')"
   ]
  },
  {
   "cell_type": "code",
   "execution_count": 10,
   "id": "b929d11e",
   "metadata": {
    "execution": {
     "iopub.execute_input": "2025-07-08T21:17:29.070256Z",
     "iopub.status.busy": "2025-07-08T21:17:29.069825Z",
     "iopub.status.idle": "2025-07-08T21:17:54.538424Z",
     "shell.execute_reply": "2025-07-08T21:17:54.536949Z",
     "shell.execute_reply.started": "2025-07-08T21:17:29.070230Z"
    }
   },
   "outputs": [
    {
     "name": "stderr",
     "output_type": "stream",
     "text": [
      "Default values of the Biogeme parameters are used. \n",
      "File biogeme.toml has been created \n"
     ]
    }
   ],
   "source": [
    "B_COST = Beta('B_COST', 0.1, None, None, 0)\n",
    "B_COST_S = Beta('B_COST_S', 0.75, None, None, 0)\n",
    "B_COST_RND = B_COST + B_COST_S * bioDraws('b_cost_rnd', 'NORMAL_MLHS_ANTI')\n",
    "\n",
    "B_TIME = Beta('B_TIME', 0.1, None, None, 0)\n",
    "B_TIME_S = Beta('B_TIME_S', 0.75, None, None, 0)\n",
    "B_TIME_RND = B_TIME + B_TIME_S * bioDraws('b_time_rnd', 'NORMAL_MLHS_ANTI')\n",
    "\n",
    "ASC_CAR = Beta('ASC_CAR', 0.1, None, None, 0)\n",
    "ASC_TRAIN = Beta('ASC_TRAIN', 0, None, None, 1) \n",
    "ASC_SM = Beta('ASC_SM', 0.1, None, None, 0)\n",
    "\n",
    "V1 = ASC_TRAIN + B_TIME_RND * TRAIN_TT_SCALED + B_COST_RND * TRAIN_COST_SCALED\n",
    "V2 = ASC_SM + B_TIME_RND * SM_TT_SCALED + B_COST_RND * SM_COST_SCALED\n",
    "V3 = ASC_CAR + B_TIME_RND * CAR_TT_SCALED + B_COST_RND * CAR_CO_SCALED\n",
    "\n",
    "V = {1: V1, 2: V2, 3: V3}\n",
    "av = {1: TRAIN_AV_SP, 2: SM_AV, 3: CAR_AV_SP}\n",
    "\n",
    "prob = models.logit(V, av, CHOICE)\n",
    "logprob = log(MonteCarlo(PanelLikelihoodTrajectory(prob)))\n",
    "\n",
    "the_biogeme = bio.BIOGEME(\n",
    "    database, logprob, number_of_draws=1000, seed=999\n",
    ")\n",
    "the_biogeme.modelName = 'test'\n",
    "the_biogeme.generate_pickle = False\n",
    "the_biogeme.generate_html = False"
   ]
  },
  {
   "cell_type": "code",
   "execution_count": 11,
   "id": "33366df2",
   "metadata": {
    "execution": {
     "iopub.execute_input": "2025-07-08T21:17:54.541448Z",
     "iopub.status.busy": "2025-07-08T21:17:54.540277Z",
     "iopub.status.idle": "2025-07-08T21:17:55.893890Z",
     "shell.execute_reply": "2025-07-08T21:17:55.892785Z",
     "shell.execute_reply.started": "2025-07-08T21:17:54.541408Z"
    }
   },
   "outputs": [
    {
     "data": {
      "text/plain": [
       "-5858.285806420752"
      ]
     },
     "execution_count": 11,
     "metadata": {},
     "output_type": "execute_result"
    }
   ],
   "source": [
    "the_biogeme.calculate_init_likelihood()"
   ]
  },
  {
   "cell_type": "code",
   "execution_count": 12,
   "id": "66fcee8c",
   "metadata": {
    "execution": {
     "iopub.execute_input": "2025-07-08T21:18:34.863722Z",
     "iopub.status.busy": "2025-07-08T21:18:34.862739Z",
     "iopub.status.idle": "2025-07-08T21:21:09.421518Z",
     "shell.execute_reply": "2025-07-08T21:21:09.420359Z",
     "shell.execute_reply.started": "2025-07-08T21:18:34.863693Z"
    }
   },
   "outputs": [
    {
     "name": "stderr",
     "output_type": "stream",
     "text": [
      "As the model is rather complex, we cancel the calculation of second derivatives. If you want to control the parameters, change the name of the algorithm in the TOML file from \"automatic\" to \"simple_bounds\" \n",
      "*** Initial values of the parameters are obtained from the file __test.iter \n",
      "Cannot read file __test.iter. Statement is ignored. \n",
      "The number of draws (1000) is low. The results may not be meaningful. \n",
      "As the model is rather complex, we cancel the calculation of second derivatives. If you want to control the parameters, change the name of the algorithm in the TOML file from \"automatic\" to \"simple_bounds\" \n",
      "Optimization algorithm: hybrid Newton/BFGS with simple bounds [simple_bounds] \n",
      "** Optimization: BFGS with trust region for simple bounds \n",
      "Iter.         ASC_CAR          ASC_SM          B_COST        B_COST_S          B_TIME        B_TIME_S     Function    Relgrad   Radius      Rho      \n",
      "    0             1.1             1.1            -0.9             1.8            -0.9             1.8      4.4e+03      0.058        1     0.43    + \n",
      "    1             0.1            0.68            -1.6             2.1            -1.4             2.4      4.3e+03      0.045        1     0.44    + \n",
      "    2             0.1            0.68            -1.6             2.1            -1.4             2.4      4.3e+03      0.045      0.5    0.029    - \n",
      "    3             0.6            0.18            -2.1             2.6            -1.9             2.9      4.1e+03      0.034      0.5      0.5    + \n",
      "    4            0.13            0.68            -2.3             2.8            -2.4             3.4      4.1e+03      0.041      0.5     0.19    + \n",
      "    5            0.63            0.18            -2.4             2.9            -2.5             3.4        4e+03       0.03        5     0.95   ++ \n",
      "    6            0.63            0.18            -2.4             2.9            -2.5             3.4        4e+03       0.03      2.5     -3.2    - \n",
      "    7            0.63            0.18            -2.4             2.9            -2.5             3.4        4e+03       0.03      1.2    -0.89    - \n",
      "    8            0.63            0.18            -2.4             2.9            -2.5             3.4        4e+03       0.03     0.62    0.036    - \n",
      "    9            0.76            0.81            -2.6             3.1            -3.1             3.5        4e+03      0.012     0.62     0.57    + \n",
      "   10             1.2            0.61            -3.1             3.5            -3.7             3.7        4e+03       0.02     0.62     0.36    + \n",
      "   11            0.54            0.31            -3.3             3.7            -3.7               4      3.9e+03       0.01     0.62     0.48    + \n",
      "   12             0.8            0.36            -3.8             4.3            -4.2             4.2      3.9e+03     0.0057     0.62     0.75    + \n",
      "   13             0.8            0.36            -3.8             4.3            -4.2             4.2      3.9e+03     0.0057     0.31    -0.67    - \n",
      "   14            0.78            0.45            -3.8             4.6            -4.4               4      3.9e+03      0.011     0.31     0.52    + \n",
      "   15            0.67            0.35            -3.8             4.6            -4.4             4.4      3.9e+03     0.0039     0.31     0.22    + \n",
      "   16            0.67            0.35            -3.8             4.6            -4.4             4.4      3.9e+03     0.0039     0.16    -0.57    - \n",
      "   17            0.78            0.45            -3.9             4.6            -4.5             4.4      3.9e+03     0.0019     0.16     0.49    + \n",
      "   18            0.71             0.3            -3.9             4.7            -4.6             4.4      3.9e+03     0.0029     0.16      0.8    + \n",
      "   19            0.71             0.3            -3.9             4.7            -4.6             4.4      3.9e+03     0.0029    0.078    -0.13    - \n",
      "   20            0.76            0.36            -3.9             4.7            -4.7             4.3      3.9e+03     0.0015    0.078     0.52    + \n",
      "   21            0.76            0.36            -3.9             4.7            -4.7             4.3      3.9e+03     0.0015    0.039    0.086    - \n",
      "   22            0.72            0.36            -3.9             4.7            -4.7             4.4      3.9e+03    0.00092    0.039     0.47    + \n",
      "   23            0.72            0.33            -3.9             4.8            -4.7             4.4      3.9e+03    0.00028    0.039     0.76    + \n",
      "   24            0.72            0.33            -3.9             4.8            -4.7             4.4      3.9e+03    0.00028     0.02     -1.1    - \n",
      "   25            0.74            0.35            -3.9             4.8            -4.7             4.4      3.9e+03    0.00033     0.02     0.21    + \n",
      "   26            0.73            0.35              -4             4.8            -4.7             4.4      3.9e+03    0.00021     0.02      0.7    + \n",
      "   27            0.73            0.35              -4             4.8            -4.7             4.4      3.9e+03    0.00021   0.0098     -2.2    - \n",
      "   28            0.73            0.35              -4             4.8            -4.7             4.4      3.9e+03    0.00021   0.0049    -0.27    - \n",
      "   29            0.73            0.35              -4             4.8            -4.7             4.4      3.9e+03    0.00012   0.0049     0.51    + \n",
      "   30            0.73            0.35              -4             4.8            -4.7             4.4      3.9e+03    1.8e-05   0.0049     0.81    + \n"
     ]
    },
    {
     "name": "stdout",
     "output_type": "stream",
     "text": [
      "Results for model test\n",
      "Nbr of parameters:\t\t6\n",
      "Sample size:\t\t\t752\n",
      "Observations:\t\t\t6768\n",
      "Excluded data:\t\t\t3960\n",
      "Final log likelihood:\t\t-3925.737\n",
      "Akaike Information Criterion:\t7863.473\n",
      "Bayesian Information Criterion:\t7891.21\n",
      "\n"
     ]
    }
   ],
   "source": [
    "results = the_biogeme.estimate()\n",
    "pandas_results = results.get_estimated_parameters()\n",
    "\n",
    "print(results.short_summary())"
   ]
  },
  {
   "cell_type": "code",
   "execution_count": 13,
   "id": "85c9f57f",
   "metadata": {},
   "outputs": [
    {
     "data": {
      "text/html": [
       "<div>\n",
       "<style scoped>\n",
       "    .dataframe tbody tr th:only-of-type {\n",
       "        vertical-align: middle;\n",
       "    }\n",
       "\n",
       "    .dataframe tbody tr th {\n",
       "        vertical-align: top;\n",
       "    }\n",
       "\n",
       "    .dataframe thead th {\n",
       "        text-align: right;\n",
       "    }\n",
       "</style>\n",
       "<table border=\"1\" class=\"dataframe\">\n",
       "  <thead>\n",
       "    <tr style=\"text-align: right;\">\n",
       "      <th></th>\n",
       "      <th>Value</th>\n",
       "      <th>Rob. Std err</th>\n",
       "      <th>Rob. t-test</th>\n",
       "      <th>Rob. p-value</th>\n",
       "    </tr>\n",
       "  </thead>\n",
       "  <tbody>\n",
       "    <tr>\n",
       "      <th>ASC_CAR</th>\n",
       "      <td>0.727231</td>\n",
       "      <td>0.142007</td>\n",
       "      <td>5.121091</td>\n",
       "      <td>3.037727e-07</td>\n",
       "    </tr>\n",
       "    <tr>\n",
       "      <th>ASC_SM</th>\n",
       "      <td>0.346918</td>\n",
       "      <td>0.153980</td>\n",
       "      <td>2.253004</td>\n",
       "      <td>2.425890e-02</td>\n",
       "    </tr>\n",
       "    <tr>\n",
       "      <th>B_COST</th>\n",
       "      <td>-3.951661</td>\n",
       "      <td>0.269035</td>\n",
       "      <td>-14.688254</td>\n",
       "      <td>0.000000e+00</td>\n",
       "    </tr>\n",
       "    <tr>\n",
       "      <th>B_COST_S</th>\n",
       "      <td>4.778901</td>\n",
       "      <td>0.307680</td>\n",
       "      <td>15.532025</td>\n",
       "      <td>0.000000e+00</td>\n",
       "    </tr>\n",
       "    <tr>\n",
       "      <th>B_TIME</th>\n",
       "      <td>-4.708162</td>\n",
       "      <td>0.280651</td>\n",
       "      <td>-16.775846</td>\n",
       "      <td>0.000000e+00</td>\n",
       "    </tr>\n",
       "    <tr>\n",
       "      <th>B_TIME_S</th>\n",
       "      <td>4.404480</td>\n",
       "      <td>0.265559</td>\n",
       "      <td>16.585670</td>\n",
       "      <td>0.000000e+00</td>\n",
       "    </tr>\n",
       "  </tbody>\n",
       "</table>\n",
       "</div>"
      ],
      "text/plain": [
       "             Value  Rob. Std err  Rob. t-test  Rob. p-value\n",
       "ASC_CAR   0.727231      0.142007     5.121091  3.037727e-07\n",
       "ASC_SM    0.346918      0.153980     2.253004  2.425890e-02\n",
       "B_COST   -3.951661      0.269035   -14.688254  0.000000e+00\n",
       "B_COST_S  4.778901      0.307680    15.532025  0.000000e+00\n",
       "B_TIME   -4.708162      0.280651   -16.775846  0.000000e+00\n",
       "B_TIME_S  4.404480      0.265559    16.585670  0.000000e+00"
      ]
     },
     "execution_count": 13,
     "metadata": {},
     "output_type": "execute_result"
    }
   ],
   "source": [
    "pandas_results"
   ]
  },
  {
   "cell_type": "markdown",
   "id": "6dcfb316",
   "metadata": {},
   "source": [
    "## jaxlogit"
   ]
  },
  {
   "cell_type": "code",
   "execution_count": 19,
   "id": "ced142a1",
   "metadata": {},
   "outputs": [],
   "source": [
    "import numpy as np\n",
    "\n",
    "import jax\n",
    "\n",
    "from jaxlogit.mixed_logit import MixedLogit\n",
    "from jaxlogit.utils import wide_to_long\n",
    "\n",
    "#  64bit precision\n",
    "jax.config.update(\"jax_enable_x64\", True)"
   ]
  },
  {
   "cell_type": "code",
   "execution_count": 20,
   "id": "90d2a2f8",
   "metadata": {},
   "outputs": [],
   "source": [
    "df_wide = database.data.copy()\n",
    "\n",
    "df_wide['custom_id'] = np.arange(len(df_wide))  # Add unique identifier\n",
    "df_wide['CHOICE'] = df_wide['CHOICE'].map({1: 'TRAIN', 2:'SM', 3: 'CAR'})\n",
    "df_wide['TRAIN_AV'] = df_wide['TRAIN_AV'] * (df_wide['SP'] != 0)\n",
    "df_wide['CAR_AV'] = df_wide['CAR_AV'] * (df_wide['SP'] != 0)\n",
    "\n",
    "df_jxl = wide_to_long(\n",
    "    df_wide, id_col='custom_id', alt_name='alt', sep='_',\n",
    "    alt_list=['TRAIN', 'SM', 'CAR'], empty_val=0,\n",
    "    varying=['TT', 'CO', 'HE', 'AV', 'SEATS'], alt_is_prefix=True\n",
    ")\n",
    "\n",
    "df_jxl['ASC_TRAIN'] = np.where(df_jxl['alt'] == 'TRAIN', 1, 0)\n",
    "df_jxl['ASC_CAR'] = np.where(df_jxl['alt'] == 'CAR', 1, 0)\n",
    "df_jxl['ASC_SM'] = np.where(df_jxl['alt'] == 'SM', 1, 0)\n",
    "\n",
    "df_jxl['TT'] = df_jxl['TT'] / 100.0\n",
    "df_jxl['CO'] = df_jxl['CO'] / 100.0\n",
    "\n",
    "df_jxl.loc[(df_jxl['GA'] == 1) & (df_jxl['alt'].isin(['TRAIN', 'SM'])), 'CO'] = 0  # Cost zero for pass holders"
   ]
  },
  {
   "cell_type": "code",
   "execution_count": 22,
   "id": "55e63337",
   "metadata": {},
   "outputs": [
    {
     "name": "stderr",
     "output_type": "stream",
     "text": [
      "2025-07-16 18:21:31,407 INFO jaxlogit.mixed_logit: Starting data preparation, including generation of 1000 random draws for each random variable and observation.\n"
     ]
    },
    {
     "name": "stderr",
     "output_type": "stream",
     "text": [
      "INFO:2025-07-16 18:21:31,478:jax._src.xla_bridge:752: Unable to initialize backend 'tpu': INTERNAL: Failed to open libtpu.so: libtpu.so: cannot open shared object file: No such file or directory\n",
      "2025-07-16 18:21:31,478 INFO jax._src.xla_bridge: Unable to initialize backend 'tpu': INTERNAL: Failed to open libtpu.so: libtpu.so: cannot open shared object file: No such file or directory\n",
      "2025-07-16 18:21:33,634 INFO jaxlogit.mixed_logit: Data contains 752 panels, using segment_sum for panel-wise log-likelihood.\n",
      "2025-07-16 18:21:33,635 INFO jaxlogit.mixed_logit: Shape of draws: (6768, 2, 1000), number of draws: 1000\n",
      "2025-07-16 18:21:33,636 INFO jaxlogit.mixed_logit: Shape of Xdf: (6768, 2, 3), shape of Xdr: (6768, 2, 2)\n",
      "2025-07-16 18:21:33,638 INFO jaxlogit.mixed_logit: Compiling log-likelihood function.\n",
      "2025-07-16 18:21:33,955 INFO jaxlogit.mixed_logit: Compilation finished, init neg_loglike = 6971.97, params= [(np.str_('ASC_SM'), Array(0.1, dtype=float64)), (np.str_('ASC_CAR'), Array(0.1, dtype=float64)), (np.str_('ASC_TRAIN'), Array(0., dtype=float64)), (np.str_('TT'), Array(0.1, dtype=float64)), (np.str_('CO'), Array(0.1, dtype=float64)), (np.str_('sd.TT'), Array(0.1, dtype=float64)), (np.str_('sd.CO'), Array(0.1, dtype=float64))]\n",
      "2025-07-16 18:21:33,956 INFO jaxlogit._optimize: Running minimization with method trust-region\n"
     ]
    },
    {
     "name": "stdout",
     "output_type": "stream",
     "text": [
      "Loss on this step: 6971.967859038894, Loss on the last accepted step: 0.0, Step size: 1.0\n",
      "Loss on this step: 395243.9234205277, Loss on the last accepted step: 6971.967859038894, Step size: 0.25\n",
      "Loss on this step: 344432.87536128884, Loss on the last accepted step: 6971.967859038894, Step size: 0.0625\n",
      "Loss on this step: 165141.12496215352, Loss on the last accepted step: 6971.967859038894, Step size: 0.015625\n",
      "Loss on this step: 44265.42190838311, Loss on the last accepted step: 6971.967859038894, Step size: 0.00390625\n",
      "Loss on this step: 13687.1931113031, Loss on the last accepted step: 6971.967859038894, Step size: 0.0009765625\n",
      "Loss on this step: 6175.561013144365, Loss on the last accepted step: 6971.967859038894, Step size: 0.0009765625\n",
      "Loss on this step: 4458.54568314532, Loss on the last accepted step: 6175.561013144365, Step size: 0.0009765625\n",
      "Loss on this step: 4358.030094798618, Loss on the last accepted step: 4458.54568314532, Step size: 0.0009765625\n",
      "Loss on this step: 4325.022780073719, Loss on the last accepted step: 4358.030094798618, Step size: 0.0009765625\n",
      "Loss on this step: 4315.346154434286, Loss on the last accepted step: 4325.022780073719, Step size: 0.00341796875\n",
      "Loss on this step: 4284.649830107491, Loss on the last accepted step: 4315.346154434286, Step size: 0.011962890625\n",
      "Loss on this step: 4196.576174642387, Loss on the last accepted step: 4284.649830107491, Step size: 0.0418701171875\n",
      "Loss on this step: 4027.1524882775984, Loss on the last accepted step: 4196.576174642387, Step size: 0.14654541015625\n",
      "Loss on this step: 4129.547829800638, Loss on the last accepted step: 4027.1524882775984, Step size: 0.0366363525390625\n",
      "Loss on this step: 3989.1653720578593, Loss on the last accepted step: 4027.1524882775984, Step size: 0.12822723388671875\n",
      "Loss on this step: 4522.3829399425795, Loss on the last accepted step: 3989.1653720578593, Step size: 0.03205680847167969\n",
      "Loss on this step: 4004.9178003140228, Loss on the last accepted step: 3989.1653720578593, Step size: 0.008014202117919922\n",
      "Loss on this step: 3981.705553915356, Loss on the last accepted step: 3989.1653720578593, Step size: 0.008014202117919922\n",
      "Loss on this step: 3972.106889251622, Loss on the last accepted step: 3981.705553915356, Step size: 0.008014202117919922\n",
      "Loss on this step: 3966.2012903380783, Loss on the last accepted step: 3972.106889251622, Step size: 0.008014202117919922\n",
      "Loss on this step: 3961.9703169109625, Loss on the last accepted step: 3966.2012903380783, Step size: 0.008014202117919922\n",
      "Loss on this step: 3959.4228682025487, Loss on the last accepted step: 3961.9703169109625, Step size: 0.028049707412719727\n",
      "Loss on this step: 3955.6452456075976, Loss on the last accepted step: 3959.4228682025487, Step size: 0.09817397594451904\n",
      "Loss on this step: 3944.6276334323493, Loss on the last accepted step: 3955.6452456075976, Step size: 0.34360891580581665\n",
      "Loss on this step: 4482.532142973619, Loss on the last accepted step: 3944.6276334323493, Step size: 0.08590222895145416\n",
      "Loss on this step: 3929.0967142541704, Loss on the last accepted step: 3944.6276334323493, Step size: 0.30065780133008957\n",
      "Loss on this step: 3963.3135850844387, Loss on the last accepted step: 3929.0967142541704, Step size: 0.07516445033252239\n",
      "Loss on this step: 3927.845755281555, Loss on the last accepted step: 3929.0967142541704, Step size: 0.07516445033252239\n",
      "Loss on this step: 3934.7569385134193, Loss on the last accepted step: 3927.845755281555, Step size: 0.018791112583130598\n",
      "Loss on this step: 3925.8932498634053, Loss on the last accepted step: 3927.845755281555, Step size: 0.018791112583130598\n",
      "Loss on this step: 3925.5711686481654, Loss on the last accepted step: 3925.8932498634053, Step size: 0.018791112583130598\n",
      "Loss on this step: 3925.3064722054114, Loss on the last accepted step: 3925.5711686481654, Step size: 0.0657688940409571\n",
      "Loss on this step: 3924.744587662716, Loss on the last accepted step: 3925.3064722054114, Step size: 0.0657688940409571\n",
      "Loss on this step: 3923.4956760035493, Loss on the last accepted step: 3924.744587662716, Step size: 0.23019112914334983\n",
      "Loss on this step: 3929.3073987640396, Loss on the last accepted step: 3923.4956760035493, Step size: 0.05754778228583746\n",
      "Loss on this step: 3922.702412835379, Loss on the last accepted step: 3923.4956760035493, Step size: 0.05754778228583746\n",
      "Loss on this step: 3922.458354784079, Loss on the last accepted step: 3922.702412835379, Step size: 0.05754778228583746\n",
      "Loss on this step: 3922.2598115879823, Loss on the last accepted step: 3922.458354784079, Step size: 0.05754778228583746\n",
      "Loss on this step: 3922.136535599968, Loss on the last accepted step: 3922.2598115879823, Step size: 0.05754778228583746\n",
      "Loss on this step: 3922.030791255688, Loss on the last accepted step: 3922.136535599968, Step size: 0.2014172380004311\n",
      "Loss on this step: 3921.5086989815304, Loss on the last accepted step: 3922.030791255688, Step size: 0.7049603330015088\n",
      "Loss on this step: 3923.9043455784526, Loss on the last accepted step: 3921.5086989815304, Step size: 0.1762400832503772\n",
      "Loss on this step: 3921.0562982454085, Loss on the last accepted step: 3921.5086989815304, Step size: 0.1762400832503772\n",
      "Loss on this step: 3921.0517535474482, Loss on the last accepted step: 3921.0562982454085, Step size: 0.1762400832503772\n",
      "Loss on this step: 3920.825040892635, Loss on the last accepted step: 3921.0517535474482, Step size: 0.1762400832503772\n",
      "Loss on this step: 3920.7962039273466, Loss on the last accepted step: 3920.825040892635, Step size: 0.1762400832503772\n",
      "Loss on this step: 3920.761287367021, Loss on the last accepted step: 3920.7962039273466, Step size: 0.1762400832503772\n",
      "Loss on this step: 3920.752048777069, Loss on the last accepted step: 3920.761287367021, Step size: 0.1762400832503772\n",
      "Loss on this step: 3920.7493188954913, Loss on the last accepted step: 3920.752048777069, Step size: 0.1762400832503772\n",
      "Loss on this step: 3920.7474048664367, Loss on the last accepted step: 3920.7493188954913, Step size: 0.1762400832503772\n",
      "Loss on this step: 3920.747114959564, Loss on the last accepted step: 3920.7474048664367, Step size: 0.1762400832503772\n",
      "Loss on this step: 3920.746922575005, Loss on the last accepted step: 3920.747114959564, Step size: 0.1762400832503772\n",
      "Loss on this step: 3920.7468118663446, Loss on the last accepted step: 3920.746922575005, Step size: 0.1762400832503772\n",
      "Loss on this step: 3920.7467273326592, Loss on the last accepted step: 3920.7468118663446, Step size: 0.1762400832503772\n",
      "Loss on this step: 3920.7466753480344, Loss on the last accepted step: 3920.7467273326592, Step size: 0.6168402913763202\n",
      "Loss on this step: 3920.74657789903, Loss on the last accepted step: 3920.7466753480344, Step size: 2.158941019817121\n",
      "Loss on this step: 3920.746563976585, Loss on the last accepted step: 3920.74657789903, Step size: 2.158941019817121\n",
      "Loss on this step: 3920.746562751344, Loss on the last accepted step: 3920.746563976585, Step size: 2.158941019817121\n",
      "Loss on this step: 3920.7465609502656, Loss on the last accepted step: 3920.746562751344, Step size: 2.158941019817121\n",
      "Loss on this step: 3920.74656094736, Loss on the last accepted step: 3920.7465609502656, Step size: 2.158941019817121\n",
      "Loss on this step: 3920.7465609413566, Loss on the last accepted step: 3920.74656094736, Step size: 2.158941019817121\n",
      "Loss on this step: 3920.746560941318, Loss on the last accepted step: 3920.7465609413566, Step size: 2.158941019817121\n"
     ]
    },
    {
     "name": "stderr",
     "output_type": "stream",
     "text": [
      "2025-07-16 18:21:45,690 INFO jaxlogit.mixed_logit: Optimization finished, success = True, final loglike = -3920.75, final gradient max = 3.65e-06, norm = 7.47e-06.\n",
      "2025-07-16 18:21:45,691 INFO jaxlogit.mixed_logit: Calculating gradient of individual log-likelihood contributions\n",
      "2025-07-16 18:21:48,755 INFO jaxlogit.mixed_logit: Calculating H_inv\n",
      "2025-07-16 18:21:53,240 INFO jaxlogit._choice_model: Post fit processing\n",
      "2025-07-16 18:21:53,777 INFO jaxlogit._choice_model: Optimization terminated successfully.\n"
     ]
    },
    {
     "name": "stdout",
     "output_type": "stream",
     "text": [
      "    Message: \n",
      "    Iterations: 50\n",
      "    Function evaluations: 63\n",
      "Estimation time= 22.3 seconds\n",
      "---------------------------------------------------------------------------\n",
      "Coefficient              Estimate      Std.Err.         z-val         P>|z|\n",
      "---------------------------------------------------------------------------\n",
      "ASC_SM                  0.3956112     0.1505933     2.6270168       0.00863 ** \n",
      "ASC_CAR                 0.7560334     0.1404524     5.3828439      7.58e-08 ***\n",
      "ASC_TRAIN               0.0000000     0.0000000           nan           nan    \n",
      "TT                     -4.6348978     0.2555659   -18.1358243      8.17e-72 ***\n",
      "CO                     -4.1309352     0.5118050    -8.0713066      8.17e-16 ***\n",
      "sd.TT                   4.3913653     0.2538132    17.3015621      1.17e-65 ***\n",
      "sd.CO                   4.6962315     0.6416456     7.3190432      2.79e-13 ***\n",
      "---------------------------------------------------------------------------\n",
      "Significance:  0 '***' 0.001 '**' 0.01 '*' 0.05 '.' 0.1 ' ' 1\n",
      "\n",
      "Log-Likelihood= -3920.747\n",
      "AIC= 7853.493\n",
      "BIC= 7894.413\n"
     ]
    }
   ],
   "source": [
    "varnames = ['ASC_SM', 'ASC_CAR', 'ASC_TRAIN', 'TT', 'CO']\n",
    "\n",
    "randvars = {'CO': 'n', 'TT': 'n'}  \n",
    "\n",
    "fixedvars = {'ASC_TRAIN': 0.0}\n",
    "\n",
    "do_panel = True\n",
    "\n",
    "model = MixedLogit()\n",
    "res = model.fit(\n",
    "    X=df_jxl[varnames],\n",
    "    y=df_jxl['CHOICE'],\n",
    "    varnames=varnames,\n",
    "    alts=df_jxl['alt'],\n",
    "    ids=df_jxl['custom_id'],\n",
    "    avail=df_jxl['AV'],\n",
    "    panels=None if do_panel is False else df_jxl[\"ID\"],\n",
    "    randvars=randvars,\n",
    "    n_draws=1000,\n",
    "    fixedvars=fixedvars,\n",
    "    init_coeff=None,\n",
    "    include_correlations=False,\n",
    "    optim_method='trust-region',\n",
    "    skip_std_errs=False,\n",
    "    force_positive_chol_diag=False,  # not using softplus for std devs here for comparability with biogeme\n",
    ")\n",
    "model.summary()"
   ]
  },
  {
   "cell_type": "code",
   "execution_count": null,
   "id": "ccd718d0",
   "metadata": {},
   "outputs": [],
   "source": []
  }
 ],
 "metadata": {
  "kernelspec": {
   "display_name": "venv",
   "language": "python",
   "name": "python3"
  },
  "language_info": {
   "codemirror_mode": {
    "name": "ipython",
    "version": 3
   },
   "file_extension": ".py",
   "mimetype": "text/x-python",
   "name": "python",
   "nbconvert_exporter": "python",
   "pygments_lexer": "ipython3",
   "version": "3.10.12"
  }
 },
 "nbformat": 4,
 "nbformat_minor": 5
}
