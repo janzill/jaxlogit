{
  "cells": [
    {
      "cell_type": "markdown",
      "metadata": {
        "id": "TJHlxbR5kEe-"
      },
      "source": [
        "# Example of running jaxlogit with batched draws\n",
        "\n",
        "jaxlogit's default way of processing random draws for simulation is to generate them once at the beginning and then run calculate the loglikelihood at each step of the optimization routine with these draws. The size of the corresponding array is (number_of_observations x number_of_random_variables x  number_of_draws) which can get very large. In case tnis is too large for local memory, jaxlogit can dynamcially generate draws on each iteration. The advantage of this is that calculations can now be batched, i.e., processed on smaller subsets and then added up. This reduces memory load that the cost of runtime. Note that jax still calculates gradients so this method also has memory limits."
      ]
    },
    {
      "cell_type": "code",
      "execution_count": 1,
      "metadata": {},
      "outputs": [],
      "source": [
        "%load_ext memory_profiler"
      ]
    },
    {
      "cell_type": "code",
      "execution_count": 2,
      "metadata": {
        "colab": {
          "base_uri": "https://localhost:8080/"
        },
        "id": "NQbZt7CVh8f_",
        "outputId": "b823e80f-fd47-4dd1-8656-3fd0d6a1e26a"
      },
      "outputs": [],
      "source": [
        "import pandas as pd\n",
        "import numpy as np\n",
        "import jax\n",
        "\n",
        "from jaxlogit.mixed_logit import MixedLogit"
      ]
    },
    {
      "cell_type": "code",
      "execution_count": 3,
      "metadata": {},
      "outputs": [],
      "source": [
        "#  64bit precision\n",
        "jax.config.update(\"jax_enable_x64\", True)"
      ]
    },
    {
      "cell_type": "markdown",
      "metadata": {},
      "source": [
        "## Electricity Dataset\n",
        "\n",
        "From xlogit's examples. Note we skip the calculation of std errors here to speed up test times."
      ]
    },
    {
      "cell_type": "code",
      "execution_count": 4,
      "metadata": {},
      "outputs": [],
      "source": [
        "df = pd.read_csv(\"https://raw.github.com/arteagac/xlogit/master/examples/data/electricity_long.csv\")"
      ]
    },
    {
      "cell_type": "code",
      "execution_count": 5,
      "metadata": {},
      "outputs": [
        {
          "name": "stdout",
          "output_type": "stream",
          "text": [
            "Data has 4308 observations, we use 6 random variables in the model. We work in 64 bit precision, so each element is 8 bytes. For 5000 draws, the array of draws is about 0.96 GB.\n"
          ]
        }
      ],
      "source": [
        "n_obs = df['chid'].unique().shape[0]\n",
        "n_vars = 6\n",
        "n_draws = 5000\n",
        "\n",
        "size_in_ram = (n_obs * n_vars * n_draws * 8) / (1024 ** 3)  # in GB\n",
        "\n",
        "print(\n",
        "    f\"Data has {n_obs} observations, we use {n_vars} random variables in the model. We work in 64 bit precision, so each element is 8 bytes.\"\n",
        "    + f\" For {n_draws} draws, the array of draws is about {size_in_ram:.2f} GB.\"\n",
        ")\n",
        "\n",
        "varnames = ['pf', 'cl', 'loc', 'wk', 'tod', 'seas']"
      ]
    },
    {
      "cell_type": "code",
      "execution_count": 7,
      "metadata": {},
      "outputs": [
        {
          "name": "stderr",
          "output_type": "stream",
          "text": [
            "INFO:2025-08-04 21:42:03,524:jax._src.xla_bridge:752: Unable to initialize backend 'tpu': INTERNAL: Failed to open libtpu.so: libtpu.so: cannot open shared object file: No such file or directory\n",
            "2025-08-04 21:42:03,524 INFO jax._src.xla_bridge: Unable to initialize backend 'tpu': INTERNAL: Failed to open libtpu.so: libtpu.so: cannot open shared object file: No such file or directory\n",
            "WARNING:2025-08-04 21:42:03,527:jax._src.xla_bridge:794: An NVIDIA GPU may be present on this machine, but a CUDA-enabled jaxlib is not installed. Falling back to cpu.\n",
            "2025-08-04 21:42:03,527 WARNING jax._src.xla_bridge: An NVIDIA GPU may be present on this machine, but a CUDA-enabled jaxlib is not installed. Falling back to cpu.\n",
            "2025-08-04 21:42:06,092 INFO jaxlogit.mixed_logit: Data contains 361 panels.\n",
            "2025-08-04 21:42:06,093 INFO jaxlogit._optimize: Running minimization with method L-BFGS-B\n",
            "2025-08-04 21:46:07,598 INFO jaxlogit.mixed_logit: Optimization finished, success = True, final loglike = -3880.18, final gradient max = 1.90e-03, norm = 1.13e-02.\n",
            "2025-08-04 21:46:07,608 INFO jaxlogit.mixed_logit: Skipping H_inv and grad_n calculation due to skip_std_errs=True\n",
            "2025-08-04 21:46:07,609 INFO jaxlogit._choice_model: Post fit processing\n",
            "2025-08-04 21:46:07,903 INFO jaxlogit._choice_model: Optimization terminated successfully.\n"
          ]
        },
        {
          "name": "stdout",
          "output_type": "stream",
          "text": [
            "    Message: CONVERGENCE: RELATIVE REDUCTION OF F <= FACTR*EPSMCH\n",
            "    Iterations: 95\n",
            "    Function evaluations: 117\n",
            "Estimation time= 244.3 seconds\n",
            "---------------------------------------------------------------------------\n",
            "Coefficient              Estimate      Std.Err.         z-val         P>|z|\n",
            "---------------------------------------------------------------------------\n",
            "pf                     -1.0166227     1.0000000    -1.0166227         0.309    \n",
            "cl                     -0.2327797     1.0000000    -0.2327797         0.816    \n",
            "loc                     2.3556730     1.0000000     2.3556730        0.0185 *  \n",
            "wk                      1.6744819     1.0000000     1.6744819        0.0941 .  \n",
            "tod                    -9.7531665     1.0000000    -9.7531665      3.03e-22 ***\n",
            "seas                   -9.9133674     1.0000000    -9.9133674       6.4e-23 ***\n",
            "sd.pf                  -1.3452424     1.0000000    -1.3452424         0.179    \n",
            "sd.cl                  -0.6834139     1.0000000    -0.6834139         0.494    \n",
            "sd.loc                  1.7530628     1.0000000     1.7530628        0.0797 .  \n",
            "sd.wk                   0.9325956     1.0000000     0.9325956         0.351    \n",
            "sd.tod                  2.3503603     1.0000000     2.3503603        0.0188 *  \n",
            "sd.seas                 1.2938151     1.0000000     1.2938151         0.196    \n",
            "---------------------------------------------------------------------------\n",
            "Significance:  0 '***' 0.001 '**' 0.01 '*' 0.05 '.' 0.1 ' ' 1\n",
            "\n",
            "Log-Likelihood= -3880.184\n",
            "AIC= 7784.369\n",
            "BIC= 7860.787\n"
          ]
        },
        {
          "data": {
            "text/plain": [
              "None"
            ]
          },
          "metadata": {},
          "output_type": "display_data"
        },
        {
          "name": "stdout",
          "output_type": "stream",
          "text": [
            "peak memory: 9810.14 MiB, increment: 9543.38 MiB\n"
          ]
        }
      ],
      "source": [
        "%%memit\n",
        "\n",
        "model = MixedLogit()\n",
        "res = model.fit(\n",
        "    X=df[varnames],\n",
        "    y=df['choice'],\n",
        "    varnames=varnames,\n",
        "    ids=df['chid'],\n",
        "    panels=df['id'],\n",
        "    alts=df['alt'],\n",
        "    n_draws=n_draws,\n",
        "    randvars={'pf': 'n', 'cl': 'n', 'loc': 'n', 'wk': 'n', 'tod': 'n', 'seas': 'n'},\n",
        "    skip_std_errs=True,  # skip standard errors to speed up the example\n",
        "    batch_size=None,\n",
        "    optim_method=\"L-BFGS-B\",\n",
        ")\n",
        "display(model.summary())"
      ]
    },
    {
      "cell_type": "code",
      "execution_count": 8,
      "metadata": {},
      "outputs": [
        {
          "name": "stderr",
          "output_type": "stream",
          "text": [
            "/usr/lib/python3.10/multiprocessing/popen_fork.py:66: RuntimeWarning: os.fork() was called. os.fork() is incompatible with multithreaded code, and JAX is multithreaded, so this will likely lead to a deadlock.\n",
            "  self.pid = os.fork()\n",
            "2025-08-04 21:46:19,366 INFO jaxlogit.mixed_logit: Data contains 361 panels.\n",
            "2025-08-04 21:46:19,367 INFO jaxlogit._optimize: Running minimization with method L-BFGS-B\n",
            "2025-08-04 21:51:32,972 INFO jaxlogit.mixed_logit: Optimization finished, success = True, final loglike = -3880.18, final gradient max = 1.90e-03, norm = 1.13e-02.\n",
            "2025-08-04 21:51:32,974 INFO jaxlogit.mixed_logit: Skipping H_inv and grad_n calculation due to skip_std_errs=True\n",
            "2025-08-04 21:51:32,975 INFO jaxlogit._choice_model: Post fit processing\n",
            "2025-08-04 21:51:33,020 INFO jaxlogit._choice_model: Optimization terminated successfully.\n"
          ]
        },
        {
          "name": "stdout",
          "output_type": "stream",
          "text": [
            "    Message: CONVERGENCE: RELATIVE REDUCTION OF F <= FACTR*EPSMCH\n",
            "    Iterations: 95\n",
            "    Function evaluations: 117\n",
            "Estimation time= 315.9 seconds\n",
            "---------------------------------------------------------------------------\n",
            "Coefficient              Estimate      Std.Err.         z-val         P>|z|\n",
            "---------------------------------------------------------------------------\n",
            "pf                     -1.0166227     1.0000000    -1.0166227         0.309    \n",
            "cl                     -0.2327797     1.0000000    -0.2327797         0.816    \n",
            "loc                     2.3556730     1.0000000     2.3556730        0.0185 *  \n",
            "wk                      1.6744819     1.0000000     1.6744819        0.0941 .  \n",
            "tod                    -9.7531665     1.0000000    -9.7531665      3.03e-22 ***\n",
            "seas                   -9.9133674     1.0000000    -9.9133674       6.4e-23 ***\n",
            "sd.pf                  -1.3452424     1.0000000    -1.3452424         0.179    \n",
            "sd.cl                  -0.6834139     1.0000000    -0.6834139         0.494    \n",
            "sd.loc                  1.7530628     1.0000000     1.7530628        0.0797 .  \n",
            "sd.wk                   0.9325956     1.0000000     0.9325956         0.351    \n",
            "sd.tod                  2.3503603     1.0000000     2.3503603        0.0188 *  \n",
            "sd.seas                 1.2938151     1.0000000     1.2938151         0.196    \n",
            "---------------------------------------------------------------------------\n",
            "Significance:  0 '***' 0.001 '**' 0.01 '*' 0.05 '.' 0.1 ' ' 1\n",
            "\n",
            "Log-Likelihood= -3880.184\n",
            "AIC= 7784.369\n",
            "BIC= 7860.787\n"
          ]
        },
        {
          "data": {
            "text/plain": [
              "None"
            ]
          },
          "metadata": {},
          "output_type": "display_data"
        },
        {
          "name": "stderr",
          "output_type": "stream",
          "text": [
            "/usr/lib/python3.10/multiprocessing/popen_fork.py:66: RuntimeWarning: os.fork() was called. os.fork() is incompatible with multithreaded code, and JAX is multithreaded, so this will likely lead to a deadlock.\n",
            "  self.pid = os.fork()\n"
          ]
        },
        {
          "name": "stdout",
          "output_type": "stream",
          "text": [
            "peak memory: 4335.09 MiB, increment: 3563.82 MiB\n"
          ]
        }
      ],
      "source": [
        "%%memit\n",
        "\n",
        "model = MixedLogit()\n",
        "res = model.fit(\n",
        "    X=df[varnames],\n",
        "    y=df['choice'],\n",
        "    varnames=varnames,\n",
        "    ids=df['chid'],\n",
        "    panels=df['id'],\n",
        "    alts=df['alt'],\n",
        "    n_draws=n_draws,\n",
        "    randvars={'pf': 'n', 'cl': 'n', 'loc': 'n', 'wk': 'n', 'tod': 'n', 'seas': 'n'},\n",
        "    skip_std_errs=True,  # skip standard errors to speed up the example\n",
        "    batch_size=1077,  # should result in 4 batches\n",
        "    optim_method=\"L-BFGS-B\",  # \"trust-region\", \"L-BFGS-B\", \"BFGS\"lver\n",
        ")\n",
        "display(model.summary())"
      ]
    },
    {
      "cell_type": "code",
      "execution_count": 9,
      "metadata": {},
      "outputs": [
        {
          "name": "stderr",
          "output_type": "stream",
          "text": [
            "/usr/lib/python3.10/multiprocessing/popen_fork.py:66: RuntimeWarning: os.fork() was called. os.fork() is incompatible with multithreaded code, and JAX is multithreaded, so this will likely lead to a deadlock.\n",
            "  self.pid = os.fork()\n",
            "2025-08-04 21:53:53,729 INFO jaxlogit.mixed_logit: Data contains 361 panels.\n",
            "2025-08-04 21:53:53,730 INFO jaxlogit._optimize: Running minimization with method L-BFGS-B\n",
            "2025-08-04 22:01:20,661 INFO jaxlogit.mixed_logit: Optimization finished, success = True, final loglike = -3880.18, final gradient max = 1.90e-03, norm = 1.13e-02.\n",
            "2025-08-04 22:01:20,662 INFO jaxlogit.mixed_logit: Skipping H_inv and grad_n calculation due to skip_std_errs=True\n",
            "2025-08-04 22:01:20,663 INFO jaxlogit._choice_model: Post fit processing\n",
            "2025-08-04 22:01:20,704 INFO jaxlogit._choice_model: Optimization terminated successfully.\n"
          ]
        },
        {
          "name": "stdout",
          "output_type": "stream",
          "text": [
            "    Message: CONVERGENCE: RELATIVE REDUCTION OF F <= FACTR*EPSMCH\n",
            "    Iterations: 95\n",
            "    Function evaluations: 117\n",
            "Estimation time= 448.7 seconds\n",
            "---------------------------------------------------------------------------\n",
            "Coefficient              Estimate      Std.Err.         z-val         P>|z|\n",
            "---------------------------------------------------------------------------\n",
            "pf                     -1.0166227     1.0000000    -1.0166227         0.309    \n",
            "cl                     -0.2327797     1.0000000    -0.2327797         0.816    \n",
            "loc                     2.3556730     1.0000000     2.3556730        0.0185 *  \n",
            "wk                      1.6744819     1.0000000     1.6744819        0.0941 .  \n",
            "tod                    -9.7531665     1.0000000    -9.7531665      3.03e-22 ***\n",
            "seas                   -9.9133674     1.0000000    -9.9133674       6.4e-23 ***\n",
            "sd.pf                  -1.3452424     1.0000000    -1.3452424         0.179    \n",
            "sd.cl                  -0.6834139     1.0000000    -0.6834139         0.494    \n",
            "sd.loc                  1.7530628     1.0000000     1.7530628        0.0797 .  \n",
            "sd.wk                   0.9325956     1.0000000     0.9325956         0.351    \n",
            "sd.tod                  2.3503603     1.0000000     2.3503603        0.0188 *  \n",
            "sd.seas                 1.2938151     1.0000000     1.2938151         0.196    \n",
            "---------------------------------------------------------------------------\n",
            "Significance:  0 '***' 0.001 '**' 0.01 '*' 0.05 '.' 0.1 ' ' 1\n",
            "\n",
            "Log-Likelihood= -3880.184\n",
            "AIC= 7784.369\n",
            "BIC= 7860.787\n"
          ]
        },
        {
          "data": {
            "text/plain": [
              "None"
            ]
          },
          "metadata": {},
          "output_type": "display_data"
        },
        {
          "name": "stderr",
          "output_type": "stream",
          "text": [
            "/usr/lib/python3.10/multiprocessing/popen_fork.py:66: RuntimeWarning: os.fork() was called. os.fork() is incompatible with multithreaded code, and JAX is multithreaded, so this will likely lead to a deadlock.\n",
            "  self.pid = os.fork()\n"
          ]
        },
        {
          "name": "stdout",
          "output_type": "stream",
          "text": [
            "peak memory: 3402.84 MiB, increment: 2489.12 MiB\n"
          ]
        }
      ],
      "source": [
        "%%memit\n",
        "\n",
        "model = MixedLogit()\n",
        "res = model.fit(\n",
        "    X=df[varnames],\n",
        "    y=df['choice'],\n",
        "    varnames=varnames,\n",
        "    ids=df['chid'],\n",
        "    panels=df['id'],\n",
        "    alts=df['alt'],\n",
        "    n_draws=n_draws,\n",
        "    randvars={'pf': 'n', 'cl': 'n', 'loc': 'n', 'wk': 'n', 'tod': 'n', 'seas': 'n'},\n",
        "    skip_std_errs=True,  # skip standard errors to speed up the example\n",
        "    batch_size=539,\n",
        "    optim_method=\"L-BFGS-B\",\n",
        ")\n",
        "display(model.summary())"
      ]
    },
    {
      "cell_type": "code",
      "execution_count": null,
      "metadata": {},
      "outputs": [],
      "source": []
    }
  ],
  "metadata": {
    "accelerator": "GPU",
    "colab": {
      "collapsed_sections": [],
      "name": "mixed_logit_model.ipynb",
      "provenance": []
    },
    "kernelspec": {
      "display_name": "venv",
      "language": "python",
      "name": "python3"
    },
    "language_info": {
      "codemirror_mode": {
        "name": "ipython",
        "version": 3
      },
      "file_extension": ".py",
      "mimetype": "text/x-python",
      "name": "python",
      "nbconvert_exporter": "python",
      "pygments_lexer": "ipython3",
      "version": "3.10.12"
    }
  },
  "nbformat": 4,
  "nbformat_minor": 0
}
